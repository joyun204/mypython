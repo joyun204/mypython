{
 "metadata": {
  "name": "",
  "signature": "sha256:1cb5160dbaadd8f633efe3a716f2b3c29c8f211822499026157e1123fa94339c"
 },
 "nbformat": 3,
 "nbformat_minor": 0,
 "worksheets": [
  {
   "cells": [
    {
     "cell_type": "heading",
     "level": 1,
     "metadata": {},
     "source": [
      "\uc2a4\ud06c\ub9bd\ud2b8 \ud504\ub85c\uadf8\ub798\ubc0d"
     ]
    },
    {
     "cell_type": "heading",
     "level": 2,
     "metadata": {},
     "source": [
      "Assignment 4"
     ]
    },
    {
     "cell_type": "heading",
     "level": 3,
     "metadata": {},
     "source": [
      "2011136080 \uc724\uc9c4\uc625"
     ]
    },
    {
     "cell_type": "heading",
     "level": 3,
     "metadata": {},
     "source": [
      "\uc81c\ucd9c\uc77c : 2014.11.21"
     ]
    },
    {
     "cell_type": "heading",
     "level": 1,
     "metadata": {},
     "source": [
      " "
     ]
    },
    {
     "cell_type": "heading",
     "level": 4,
     "metadata": {},
     "source": [
      " "
     ]
    },
    {
     "cell_type": "markdown",
     "metadata": {},
     "source": [
      "<b>[1\ubc88 \ubb38\uc81c] \ud30c\uc77c s.txt \ub0b4\uc758 \ub2e4\uc74c \ub0b4\uc6a9\uacfc \ud568\uaed8 \uc544\ub798 \ubb38\uc81c\uc758 \ucf54\ub4dc\ub97c \uc81c\uc2dc\ud558\uc2dc\uc624.</b>"
     ]
    },
    {
     "cell_type": "code",
     "collapsed": false,
     "input": [
      "import os\n",
      "s = \"\"\"pig ham\n",
      "cat dog\n",
      "ham bird\n",
      "dog pig\n",
      "\"\"\"\n",
      "f = open('s.txt', 'w')\n",
      "f.write(s)\n",
      "f.close()"
     ],
     "language": "python",
     "metadata": {},
     "outputs": [],
     "prompt_number": 11
    },
    {
     "cell_type": "heading",
     "level": 6,
     "metadata": {},
     "source": [
      " "
     ]
    },
    {
     "cell_type": "markdown",
     "metadata": {},
     "source": [
      " -  <b>1) \ud30c\uc77c s.txt\uc744 \uc77d\uc5b4\uc11c \uac01 \ub77c\uc778\ub4e4\uc5d0 \uc788\ub294 \uccab \ubc88\uc9f8 \ub2e8\uc5b4(\ubb38\uc790\uc5f4)\ub4e4\uc744 \uae30\uc900\uc73c\ub85c \ub77c\uc778\ubcc4 \uc815\ub82c\ud6c4 \ud30c\uc77c s1.txt\uc5d0 \uadf8 \uacb0\uacfc\ub97c \uae30\ub85d\ud558\ub294 \ucf54\ub4dc\ub97c \uc791\uc131\ud558\uc2dc\uc624. \uc989, \ud504\ub85c\uadf8\ub7a8 \uc218\ud589 \ud6c4 s1.txt\uc5d0 \uc788\ub294 \ud30c\uc77c \ub0b4\uc6a9\uc740 \ub2e4\uc74c\uacfc \uac19\ub2e4.</b>"
     ]
    },
    {
     "cell_type": "code",
     "collapsed": false,
     "input": [
      "import os\n",
      "f1 = file('s.txt')\n",
      "L = f1.readlines()\n",
      "L.sort()\n",
      "print L\n",
      "print\n",
      "f1.close()\n",
      "\n",
      "f2 = open('s1.txt', 'w+')\n",
      "f2.writelines(L)\n",
      "f2.seek(0)\n",
      "print f2.read()\n",
      "f2.close()"
     ],
     "language": "python",
     "metadata": {},
     "outputs": [
      {
       "output_type": "stream",
       "stream": "stdout",
       "text": [
        "['cat dog\\n', 'dog pig\\n', 'ham bird\\n', 'pig ham\\n']\n",
        "\n",
        "cat dog\n",
        "dog pig\n",
        "ham bird\n",
        "pig ham\n",
        "\n"
       ]
      }
     ],
     "prompt_number": 12
    },
    {
     "cell_type": "heading",
     "level": 6,
     "metadata": {},
     "source": [
      " "
     ]
    },
    {
     "cell_type": "markdown",
     "metadata": {},
     "source": [
      " - <b>2) \ud30c\uc77c s.txt\uc744 \uc77d\uc5b4\uc11c \uac01 \ub77c\uc778\ub4e4\uc5d0 \uc788\ub294 \ub450 \ubc88\uc9f8 \ub2e8\uc5b4(\ubb38\uc790\uc5f4)\ub4e4\uc744 \uae30\uc900\uc73c\ub85c \ub77c\uc778\ubcc4 \uc815\ub82c\ud6c4 \ud30c\uc77c s2.txt\uc5d0 \uadf8 \uacb0\uacfc\ub97c \uae30\ub85d\ud558\ub294 \ucf54\ub4dc\ub97c \uc791\uc131\ud558\uc2dc\uc624. \uc989, \ud504\ub85c\uadf8\ub7a8 \uc218\ud589 \ud6c4 s2.txt\uc5d0 \uc788\ub294 \ud30c\uc77c \ub0b4\uc6a9\uc740 \ub2e4\uc74c\uacfc \uac19\ub2e4.</b>"
     ]
    },
    {
     "cell_type": "code",
     "collapsed": false,
     "input": [
      "f1 = file('s.txt')\n",
      "L = f1.readlines()\n",
      "def mycmp(a, b):\n",
      "    return cmp(a.split()[1], b.split()[1])\n",
      "L.sort(mycmp)\n",
      "print L\n",
      "print\n",
      "f1.close()\n",
      "\n",
      "f2 = open('s2.txt', 'w+')\n",
      "f2.writelines(L)\n",
      "f2.seek(0)\n",
      "print f2.read()\n",
      "f2.close()"
     ],
     "language": "python",
     "metadata": {},
     "outputs": [
      {
       "output_type": "stream",
       "stream": "stdout",
       "text": [
        "['ham bird\\n', 'cat dog\\n', 'pig ham\\n', 'dog pig\\n']\n",
        "\n",
        "ham bird\n",
        "cat dog\n",
        "pig ham\n",
        "dog pig\n",
        "\n"
       ]
      }
     ],
     "prompt_number": 13
    },
    {
     "cell_type": "markdown",
     "metadata": {},
     "source": [
      "1-1\ubc88\uacfc \uac19\uc740 \ubc29\ubc95\uc744 \uc0ac\uc6a9\ud558\ub418, \ub450\ubc88\uc9f8 \ub2e8\uc5b4\ub97c \uae30\uc900\uc73c\ub85c \uc815\ub82c\ud574\uc57c\ud558\uae30 \ub54c\ubb38\uc5d0 \ube44\uad50\ud568\uc218 cmp\ub97c \uc0c8\ub85c \uc815\uc758\ud574\uc11c sort \ud558\uc600\ub2e4"
     ]
    },
    {
     "cell_type": "heading",
     "level": 6,
     "metadata": {},
     "source": [
      " "
     ]
    },
    {
     "cell_type": "markdown",
     "metadata": {},
     "source": [
      " - <b>3) \ud30c\uc77c s.txt\uc744 \uc77d\uc5b4\uc11c \uac01 \ub77c\uc778\ub4e4\uc5d0 \uc788\ub294 \ubaa8\ub4e0 \ub2e8\uc5b4\ub4e4\uc744 \uc21c\ucc28\uc801\uc73c\ub85c \ub2e4\uc2dc \ub098\uc5f4\ud558\ub418 \uac01 \ub77c\uc778\uc5d0 \uc138 \uac1c\uc758 \ub2e8\uc5b4\ub4e4\uc774 \uc624\ub3c4\ub85d \ud558\uc5ec s3.txt\uc5d0 \uae30\ub85d\ud558\ub294 \ucf54\ub4dc\ub97c \uc791\uc131\ud558\uc2dc\uc624. \uc989, \ud504\ub85c\uadf8\ub7a8 \uc218\ud589 \ud6c4 s3.txt\uc5d0 \uc788\ub294 \ud30c\uc77c \ub0b4\uc6a9\uc740 \ub2e4\uc74c\uacfc \uac19\ub2e4.</b>"
     ]
    },
    {
     "cell_type": "code",
     "collapsed": false,
     "input": [
      "f1 = file('s.txt')\n",
      "s = f1.read()\n",
      "L = s.split()\n",
      "\n",
      "i = 0\n",
      "L2 = []\n",
      "for l in L:\n",
      "    if(i%3 == 0 and i != 0): L2.append('\\n')\n",
      "    L2.append(l + ' ')\n",
      "    i += 1\n",
      "print L2\n",
      "print\n",
      "\n",
      "f2 = open('s3.txt', 'w')\n",
      "f2.write(''.join(L2))\n",
      "\n",
      "f3 = open('s3.txt')\n",
      "print f3.read()\n",
      "f.close()"
     ],
     "language": "python",
     "metadata": {},
     "outputs": [
      {
       "output_type": "stream",
       "stream": "stdout",
       "text": [
        "['pig ', 'ham ', 'cat ', '\\n', 'dog ', 'ham ', 'bird ', '\\n', 'dog ', 'pig ']\n",
        "\n",
        "pig ham cat \n",
        "dog ham bird \n",
        "dog pig \n"
       ]
      }
     ],
     "prompt_number": 25
    },
    {
     "cell_type": "markdown",
     "metadata": {},
     "source": [
      "\uba3c\uc800 \ud30c\uc77c \ub0b4\ubd80\uc758 \ubb38\uc790\uc5f4\ub4e4\uc744 \uacf5\ubc31\uc744 \uae30\uc900\uc73c\ub85c \ubd84\ub9ac\ud55c\ub2e4. \uadf8\ub9ac\uace0 (\uac00\uc7a5 \uccab\ubc88\uc9f8\uac00 \uc544\ub2c8\uba70)3\uc758 \ubc30\uc218\ubc88\uc9f8\uc5d0 \uc704\uce58\ud55c \ub2e8\uc5b4\ub4e4\uc758 \ub4a4\uc5d0 '\\n'\uc744 \ucd94\uac00\ud558\uc600\ub2e4. \uadf8\ub807\uac8c \ucd94\uac00\ud55c \ub9ac\uc2a4\ud2b8\ub97c join\ud558\uc5ec \uadf8\ub300\ub85c \ud30c\uc77c\uc5d0 \uc37c\ub2e4"
     ]
    },
    {
     "cell_type": "heading",
     "level": 1,
     "metadata": {},
     "source": [
      " "
     ]
    },
    {
     "cell_type": "markdown",
     "metadata": {},
     "source": [
      "<b>[2\ubc88 \ubb38\uc81c] \ub2e4\uc74c\uacfc \uac19\uc740 \uc870\uac74\ub4e4\uc744 \ucc38\uace0\ud558\uc5ec \ud68c\uc6d0 \uac00\uc785 \ubc0f \ub85c\uadf8\uc778 \ud504\ub85c\uadf8\ub7a8\uc744 \uc791\uc131\ud558\uc2dc\uc624.</b>\n",
      "- <b>1) \ud504\ub85c\uadf8\ub7a8 \uc2dc\uc791 \ud6c4 \ub2e4\uc74c\uacfc \uac19\uc740 \uba54\uc2dc\uc9c0\uac00 \ucd9c\ub825\ub418\uc5b4 1, 2, 3 \uc911 \ud558\ub098\uc758 \uac12\uc744 \uc785\ub825 \ubc1b\ub3c4\ub85d \ud55c\ub2e4.</b>\n",
      "        Welcome to Our Service\n",
      "        Sign Up\n",
      "        Sign In\n",
      "        Quit\n",
      "- <b>2) 1\uc744 \uc120\ud0dd\ud558\uba74 ID, Password, Name, School\uc758 4\uac00\uc9c0 \uc815\ubcf4\ub97c \uc785\ub825\ubc1b\uc544 \ud30c\uc77c\uc5d0 \uc800\uc7a5\ud558\ub294 \ud504\ub85c\uadf8\ub7a8\uc744 \uc791\uc131\ud55c\ub2e4.</b>\n",
      "    - 2-1) \uc785\ub825\ub41c \ub0b4\uc6a9\uc740 access \ub77c\ub294 \uc774\ub984\uc758 \ud30c\uc77c \ub0b4\uc5d0 \uc800\uc7a5\ub41c\ub2e4.\n",
      "    - 2-2) access \ud30c\uc77c\uc758 \uac01 \ub77c\uc778\uc5d0\ub294 \uac00\uc785\ub41c \ud68c\uc6d0 \uac01\uac01\uc758 \uc815\ubcf4\uac00 \"id: password, name, school\" \ud615\ud0dc\ub85c \uc800\uc7a5\ub41c\ub2e4.\n",
      "    - 2-3) \uc989, \uac00\uc785 \ud68c\uc6d0\uc774 10\uba85\uc774\uba74 access \ud30c\uc77c \ub0b4\uc5d0 \ub77c\uc778 \uc218\ub3c4 \uc815\ud655\ud788 10\uc774\ub2e4.\n",
      "    - 2-4) \uc554\ud638\ud654 \ubc29\uc2dd\uc740 sha \ubaa8\ub4c8\uc744 \ud65c\uc6a9\ud55c\ub2e4. sha \ubaa8\ub4c8 \ud65c\uc6a9 \ubc29\ubc95\uc740 \ubcf8 \ubb38\uc81c\uc758 \ub9c8\uc9c0\ub9c9\uc5d0 \uc81c\uc2dc\ub41c sha \ud65c\uc6a9 \uc608\ub97c \ucc38\uace0\ud55c\ub2e4. \uc989, access \ud30c\uc77c \ub0b4\uc5d0 password \uc815\ubcf4\ub294 \uc554\ud638\ud654 \ub418\uc5b4 \uc800\uc7a5\ub418\uc5b4\uc57c \ud55c\ub2e4.\n",
      "    - 2-5) \ud68c\uc6d0 \uc815\ubcf4\ub97c \uc785\ub825 \ubc1b\uc744 \ub54c id\ub97c \uc785\ub825 \ubc1b\uc740 \uc9c1\ud6c4 access\ub97c \ud655\uc778\ud558\uc5ec \uc774\ubbf8 \uc874\uc7ac\ud558\ub294 id\uac00 \uc785\ub825\ub418\uc5c8\ub2e4\uba74 \ub2e4\uc74c \uba54\uc2dc\uc9c0\ub97c \ucd9c\ub825\ud558\uace0 id \uc815\ubcf4\ub97c \ub2e4\uc2dc \uc785\ub825\ubc1b\ub294\ub2e4.\n",
      "            Sorry, the entered ID is already used.\n",
      "- <b>3) 2\ub97c \uc120\ud0dd\ud558\uba74 ID, Password\uc758 2\uac00\uc9c0 \uc815\ubcf4\ub97c \uc785\ub825\ubc1b\ub294 \ud504\ub85c\uadf8\ub7a8\uc744 \uc791\uc131\ud55c\ub2e4.</b>\n",
      "    - 3-1) \uc785\ub825\ub41c ID \uc815\ubcf4\uac00 access\uc5d0 \uc874\uc7ac\ud558\uc9c0 \uc54a\uc73c\uba74 \ub2e4\uc74c\uacfc \uac19\uc740 \uba54\uc2dc\uc9c0\ub97c \ucd9c\ub825\ud558\uace0 \ub2e4\uc2dc \uc785\ub825\ubc1b\ub294\ub2e4.\n",
      "            Sorry, you are not a registered member.\n",
      "    - 3-2) \uc785\ub825\ub41c ID\uac00 \uc62c\ubc14\ub974\uac8c \uc874\uc7ac\ud558\uc9c0\ub9cc Password \uc815\ubcf4\uac00 access \ud30c\uc77c\uc5d0 \uc788\ub294 \uc815\ubcf4\uc640 \ubd88\uc77c\uce58 \ud558\uba74 \ub2e4\uc74c\uacfc \uac19\uc740 \uba54\uc2dc\uc9c0\ub97c \ucd9c\ub825\ud558\uace0 \ub2e4\uc2dc \uc785\ub825\ubc1b\ub294\ub2e4.\n",
      "            Sorry, the entered password is not correct.\n",
      "    \uc774 \ub54c\uc5d0\ub3c4 \uc0ac\uc6a9\uc790\uac00 \uc785\ub825\ud55c \ud328\uc2a4\uc6cc\ub4dc \uc815\ubcf4\uc640 \ud568\uaed8 sha \ubaa8\ub4c8\uc774 \ud65c\uc6a9\ub418\uc5b4\uc57c \ud55c\ub2e4.\n",
      "    - 3-3) \uc785\ub825\ub41c ID\uc640 Password\uac00 \ubaa8\ub450 \uc62c\ubc14\ub974\uba74 \ub2e4\uc74c\uacfc \uac19\uc740 \uba54\uc2dc\uc9c0\ub97c \ucd9c\ub825\ud55c\ub2e4.\n",
      "            Hello [name]!\n",
      "    \uc704 [name]\uc5d0\ub294 access\uc5d0 \uae30\ub85d\ub418\uc5b4 \uc788\ub294 name \uc815\ubcf4\ub97c \ucd9c\ub825\ud55c\ub2e4.\n",
      "- <b>4) 3\uc744 \uc120\ud0dd\ud558\uba74 \ud504\ub85c\uadf8\ub7a8\uc774 \ub05d\ub09c\ub2e4.</b>"
     ]
    },
    {
     "cell_type": "code",
     "collapsed": false,
     "input": [
      "import os\n",
      "import sha\n",
      "\n",
      "def menu() :\n",
      "    print '''Welcome to Our Service\n",
      "    \n",
      "    1. sign Up\n",
      "    2. Sign In\n",
      "    3. Quit\n",
      "    '''\n",
      "    m = input('menu? ')\n",
      "    return m\n",
      "\n",
      "def signUp() :\n",
      "    print '--- Sign up ---'\n",
      "    ac_id = raw_input('ID: ')\n",
      "    \n",
      "    f = open('access.txt', 'a+')\n",
      "    id_list = [line.split(':')[0] for line in f.readlines()]\n",
      "    \n",
      "    while (ac_id in id_list) :\n",
      "        print 'Sorry, the entered ID is already used.'\n",
      "        ac_id = raw_input('ID: ')\n",
      "    plain_pw = raw_input('PW: ')\n",
      "    ac_pw = sha.new(plain_pw).hexdigest()\n",
      "    ac_nm = raw_input('NAME: ')\n",
      "    ac_sc = raw_input('SCHOOL: ')\n",
      "    \n",
      "    ac_info = '%s: %s, %s, %s\\n' % (ac_id, ac_pw, ac_nm, ac_sc)\n",
      "    f.write(ac_info)  \n",
      "    f.close()\n",
      "\n",
      "def signIn() :\n",
      "    # ID, PW\ub97c \uac80\uc0ac\ud558\uae30 \uc704\ud55c \ub9ac\uc2a4\ud2b8 \ub9cc\ub4e6\n",
      "    f = open('access.txt', 'a+')\n",
      "    lines = f.readlines()\n",
      "    info = []\n",
      "    for l in lines:\n",
      "        l2 = l.split(': ')  #\ub9ac\uc2a4\ud2b8\n",
      "        l3 = [i for i in l2[1].split(', ')]\n",
      "        l3.insert(0, l2[0])\n",
      "        info.append(l3)\n",
      "        \n",
      "    # ID, PW \uac80\uc0ac\n",
      "    print '--- Sgin in ---'\n",
      "    lg_id = raw_input('ID: ')\n",
      "    id_list = [i[0] for i in info]\n",
      "    while(lg_id not in id_list):\n",
      "        print 'Sorry, you are not a registered member.'\n",
      "        lg_id = raw_input('ID: ')\n",
      "    \n",
      "    index = id_list.index(lg_id)\n",
      "    pw = info[index][1]\n",
      "    \n",
      "    input_pw = raw_input('PW: ')\n",
      "    lg_pw = sha.new(input_pw).hexdigest()\n",
      "    while(lg_pw != pw) :\n",
      "        print 'Sorry, the entered password is not correct.'\n",
      "        input_pw = raw_input('PW: ')\n",
      "        lg_pw = sha.new(input_pw).hexdigest()\n",
      "    \n",
      "    print 'Hello [%s]!' % info[index][2]\n",
      "\n",
      "    \n",
      "menu = menu()\n",
      "while(1):\n",
      "    if (menu == 1): signUp()\n",
      "    elif (menu == 2): signIn()\n",
      "    elif (menu == 3): \n",
      "        print '--- Quit ---'\n",
      "        break\n",
      "    else : print 'Reselect menu\\n'\n",
      "    print\n",
      "    menu = input('menu? ')"
     ],
     "language": "python",
     "metadata": {},
     "outputs": [
      {
       "output_type": "stream",
       "stream": "stdout",
       "text": [
        "Welcome to Our Service\n",
        "    \n",
        "    1. sign Up\n",
        "    2. Sign In\n",
        "    3. Quit\n",
        "    \n"
       ]
      },
      {
       "name": "stdout",
       "output_type": "stream",
       "stream": "stdout",
       "text": [
        "menu? 1\n"
       ]
      },
      {
       "output_type": "stream",
       "stream": "stdout",
       "text": [
        "--- Sign up ---\n"
       ]
      },
      {
       "name": "stdout",
       "output_type": "stream",
       "stream": "stdout",
       "text": [
        "ID: jo1044\n"
       ]
      },
      {
       "name": "stdout",
       "output_type": "stream",
       "stream": "stdout",
       "text": [
        "PW: asd123\n"
       ]
      },
      {
       "name": "stdout",
       "output_type": "stream",
       "stream": "stdout",
       "text": [
        "NAME: jinok\n"
       ]
      },
      {
       "name": "stdout",
       "output_type": "stream",
       "stream": "stdout",
       "text": [
        "SCHOOL: koreatech\n"
       ]
      },
      {
       "output_type": "stream",
       "stream": "stdout",
       "text": [
        "\n"
       ]
      },
      {
       "name": "stdout",
       "output_type": "stream",
       "stream": "stdout",
       "text": [
        "menu? 1\n"
       ]
      },
      {
       "output_type": "stream",
       "stream": "stdout",
       "text": [
        "--- Sign up ---\n"
       ]
      },
      {
       "name": "stdout",
       "output_type": "stream",
       "stream": "stdout",
       "text": [
        "ID: jo1044\n"
       ]
      },
      {
       "output_type": "stream",
       "stream": "stdout",
       "text": [
        "Sorry, the entered ID is already used.\n"
       ]
      },
      {
       "name": "stdout",
       "output_type": "stream",
       "stream": "stdout",
       "text": [
        "ID: kys2014\n"
       ]
      },
      {
       "name": "stdout",
       "output_type": "stream",
       "stream": "stdout",
       "text": [
        "PW: a1s2d3\n"
       ]
      },
      {
       "name": "stdout",
       "output_type": "stream",
       "stream": "stdout",
       "text": [
        "NAME: youngsam\n"
       ]
      },
      {
       "name": "stdout",
       "output_type": "stream",
       "stream": "stdout",
       "text": [
        "SCHOOL: seoul\n"
       ]
      },
      {
       "output_type": "stream",
       "stream": "stdout",
       "text": [
        "\n"
       ]
      },
      {
       "name": "stdout",
       "output_type": "stream",
       "stream": "stdout",
       "text": [
        "menu? 2\n"
       ]
      },
      {
       "output_type": "stream",
       "stream": "stdout",
       "text": [
        "--- Sgin in ---\n"
       ]
      },
      {
       "name": "stdout",
       "output_type": "stream",
       "stream": "stdout",
       "text": [
        "ID: jo1000\n"
       ]
      },
      {
       "output_type": "stream",
       "stream": "stdout",
       "text": [
        "Sorry, you are not a registered member.\n"
       ]
      },
      {
       "name": "stdout",
       "output_type": "stream",
       "stream": "stdout",
       "text": [
        "ID: jo1044\n"
       ]
      },
      {
       "name": "stdout",
       "output_type": "stream",
       "stream": "stdout",
       "text": [
        "PW: a1s2d3\n"
       ]
      },
      {
       "output_type": "stream",
       "stream": "stdout",
       "text": [
        "Sorry, the entered password is not correct.\n"
       ]
      },
      {
       "name": "stdout",
       "output_type": "stream",
       "stream": "stdout",
       "text": [
        "PW: asd123\n"
       ]
      },
      {
       "output_type": "stream",
       "stream": "stdout",
       "text": [
        "Hello [jinok]!\n",
        "\n"
       ]
      },
      {
       "name": "stdout",
       "output_type": "stream",
       "stream": "stdout",
       "text": [
        "menu? 3\n"
       ]
      },
      {
       "output_type": "stream",
       "stream": "stdout",
       "text": [
        "--- Quit ---\n"
       ]
      }
     ],
     "prompt_number": 32
    },
    {
     "cell_type": "markdown",
     "metadata": {},
     "source": [
      "1. sign up\uc740 \uac1c\uc778\uc815\ubcf4\ub97c \uc785\ub825\ubc1b\uc544 \uadf8\ub300\ub85c \ubb38\uc81c\uc5d0\uc11c \uc81c\uc2dc\ud55c \ud615\uc2dd\uc758 \ubb38\uc790\uc5f4\ub85c \ud30c\uc77c\uc5d0 \uc37c\ub2e4. \ub2e8 \ube44\ubc00\ubc88\ud638\ub294 sha\ubaa8\ub4c8\uc744 \uc0ac\uc6a9\ud558\uc5ec \uc554\ud638\ud654\ub41c \uc815\ubcf4\ub85c \uc800\uc7a5\ud55c\ub2e4.<br>\n",
      "2. sign in\uc740 \uba3c\uc800 \uac1c\uc778\uc815\ubcf4\uac00 \uc800\uc7a5\ub41c \ud30c\uc77c access.txt\ub97c \uc77d\uc5b4, \ubb38\uc790\uc5f4\ub85c \uc800\uc7a5\ub418\uc5b4\uc788\ub294 \uac83\uc744 \ub9ac\uc2a4\ud2b8\ub85c \ub9cc\ub4e4\uc5b4 \uadf8\ub7ec\ud55c \ub9ac\uc2a4\ud2b8\ub4e4\uc744 \ub9ac\uc2a4\ud2b8\uc5d0 \uc800\uc7a5\ud558\uc600\ub2e4. \uadf8\ub807\uac8c \uc800\uc7a5\ud55c \uc815\ubcf4\ub97c \uc778\ub371\uc2f1\uc744 \uc0ac\uc6a9\ud558\uc5ec \uc0ac\uc6a9\uc790\uac00 \uc785\ub825\ud55c \uc815\ubcf4\uc640 \ube44\uad50\ud558\uace0 \ud2c0\ub9ac\uba74 \ub9de\uc744 \ub54c\uae4c\uc9c0 \uc785\ub825\ubc1b\ub3c4\ub85d while\ubb38\uc744 \ub9cc\ub4e4\uc5c8\ub2e4. \ube44\ubc00\ubc88\ud638\ub294 \uc785\ub825\ubc1b\uc740 \ube44\ubc00\ubc88\ud638\ub97c \uc554\ud638\ud654\ud55c \uac83\uacfc \uc800\uc7a5\ub41c \uc554\ud638\ud654 \ube44\ubc00\ubc88\ud638\uc640 \ube44\uad50\ud558\uc600\ub2e4. \uc5ec\uae30\uc11c \ube44\ubc00\ubc88\ud638\ub294 \ucc98\uc74c ID\ub97c \uc785\ub825\ud560 \ub54c ID\uc5d0 \ub9de\ub294 \ube44\ubc00\ubc88\ud638\ub97c \ubd88\ub7ec\uc640\uc11c \uadf8\uac83\uacfc \ube44\uad50\ud55c\ub2e4.  "
     ]
    },
    {
     "cell_type": "heading",
     "level": 1,
     "metadata": {},
     "source": [
      " "
     ]
    },
    {
     "cell_type": "markdown",
     "metadata": {},
     "source": [
      "<b>[3\ubc88 \ubb38\uc81c] range() \ud568\uc218\uc640 \uc720\uc0ac\ud55c frange() \ud568\uc218\ub97c \ub2e4\uc74c \uc870\uac74\uc744 \ucc38\uace0\ud558\uc5ec \ub9cc\ub4dc\uc2dc\uc624.</b>"
     ]
    },
    {
     "cell_type": "markdown",
     "metadata": {},
     "source": [
      "- <b>1) frange()\uc758 \uc778\uc790 \uad6c\uc131\uc740 \ub2e4\uc74c\uacfc \uac19\uc774 range\uc640 \ub3d9\uc77c\ud558\uc9c0\ub9cc \uac01 \uc778\uc218\ub4e4\uc740 \uc74c\uc218\ub97c \ubc1b\uc9c0 \uc54a\ub294\ub2e4\uace0 \uac00\uc815\ud55c\ub2e4.</b>\n",
      "        range(stop)\n",
      "        range(start, stop[, step])\n",
      "- <b>2) frange() \ud568\uc218\uc758 \uc778\uc790\uc5d0 \ub300\ud55c \uae30\ubcf8 \uc2dc\uc791(start) \uac12\uc740 0.0\uc774\uace0, \uae30\ubcf8 \ub2e8\uacc4(step) \uac12\uc740 0.1\uc774\ub2e4.\n",
      "- 3) frange \uc0ac\uc6a9 \uc608</b>\n",
      "     - 3-1) frange(0.5)\n",
      "        [0.0, 0.1, 0.2, 0.3, 0.4]\n",
      "     - 3-2) frange(1.0, 2.0)\n",
      "        [1.0, 1.1, 1.2, 1.3, 1.4, 1.5, 1.6, 1.7, 1.8, 1.9]\n",
      "     - 3-3) frange(2.2, 4.0, 0.5)\n",
      "        [2.2, 2.7, 3.2, 3.7] "
     ]
    },
    {
     "cell_type": "code",
     "collapsed": false,
     "input": [
      "def frange(stop, start = 0.0, step = 0.1) :\n",
      "    if (start != 0) : stop, start = start, stop\n",
      "    cnt = int(round((stop - start)/step))\n",
      "    fr = [start + (step*i) for i in range(cnt)]\n",
      "    return fr\n",
      "print frange(0.5)\n",
      "print\n",
      "print frange(1.0, 2.0)\n",
      "print \n",
      "print frange(2.2, 4.0, 0.5)\n",
      "    "
     ],
     "language": "python",
     "metadata": {},
     "outputs": [
      {
       "output_type": "stream",
       "stream": "stdout",
       "text": [
        "[0.0, 0.1, 0.2, 0.30000000000000004, 0.4]\n",
        "\n",
        "[1.0, 1.1, 1.2, 1.3, 1.4, 1.5, 1.6, 1.7000000000000002, 1.8, 1.9]\n",
        "\n",
        "[2.2, 2.7, 3.2, 3.7]\n"
       ]
      }
     ],
     "prompt_number": 48
    },
    {
     "cell_type": "markdown",
     "metadata": {},
     "source": [
      "\ubc18\ud658\ub418\ub294 fr\ub9ac\uc2a4\ud2b8\uc5d0 \uc911\uac04\uc5d0 \uc624\ucc28\uac00 \uc0dd\uae30\ub294\ub370 \uc774\ub97c \uc704\ud574 Decimal \ubaa8\ub4c8\uc744 \uc0ac\uc6a9\ud558\uace0 \uc2f6\uc5c8\uc73c\ub098, \uc544\uc9c1 Decimal \ubaa8\ub4c8\uc758 \uc0ac\uc6a9\uc5d0 \ubbf8\uc219\ud574\uc11c \uadf8\ub300\ub85c \ub450\uc5c8\ub2e4"
     ]
    },
    {
     "cell_type": "heading",
     "level": 1,
     "metadata": {},
     "source": [
      " "
     ]
    },
    {
     "cell_type": "markdown",
     "metadata": {},
     "source": [
      "<b>[4\ubc88 \ubb38\uc81c] \uac00\ubcc0\uc778\uc218\ub97c \ubc1b\ub294 \ud568\uc218 sum()\uc744 \ub2e4\uc74c\uacfc \uac19\uc740 \uc870\uac74\uc744 \ucc38\uace0\ud558\uc5ec \uad6c\ud604\ud558\uc2dc\uc624\n",
      "- 1) sum() \uc0ac\uc6a9 \uc608</b>\n",
      "        sum()\n",
      "        0\n",
      "        sum(1, 2)\n",
      "        3\n",
      "        sum(1, 2, 3, 4, 5)\n",
      "        15\n",
      "        sum(1, 5, 7, 2, -10)\n",
      "        5"
     ]
    },
    {
     "cell_type": "code",
     "collapsed": false,
     "input": [
      "def sum(*arg):\n",
      "    s = 0\n",
      "    for i in arg:\n",
      "        s = s + i\n",
      "    return s\n",
      " \n",
      "print sum()\n",
      "print sum(1,2)\n",
      "print sum(1,2,3,4,5)\n",
      "print sum(1,5,7,2,-10)"
     ],
     "language": "python",
     "metadata": {},
     "outputs": [
      {
       "output_type": "stream",
       "stream": "stdout",
       "text": [
        "0\n",
        "3\n",
        "15\n",
        "5\n"
       ]
      }
     ],
     "prompt_number": 49
    },
    {
     "cell_type": "markdown",
     "metadata": {},
     "source": [
      "\uc778\uc790\ub97c \uac00\ubcc0\uc778\uc218\ub85c \ubc1b\uc544, \ud29c\ud50c \ub0b4\uc758 \uc6d0\uc18c\ub97c \uaebc\ub0b4 \uc804\ubd80 \ub354\ud558\uc600\ub2e4. \ub354\ud55c\uac12\uc744 \ub9ac\ud134\ud560 s\ub97c 0\uc73c\ub85c \ucd08\uae30\ud654\ud558\uae30 \ub54c\ubb38\uc5d0 \uc778\uc790\uac00 \uc544\uc608 \uc5c6\uc73c\uba74 0\uc744 \ucd9c\ub825\ud55c\ub2e4"
     ]
    },
    {
     "cell_type": "heading",
     "level": 1,
     "metadata": {},
     "source": [
      " "
     ]
    },
    {
     "cell_type": "markdown",
     "metadata": {},
     "source": [
      "<b>[5\ubc88 \ubb38\uc81c] \uc5ec\ub7ec \ub2e8\uc5b4\ub85c \uc774\ub8e8\uc5b4\uc9c4 \ubb38\uc790\uc5f4\uc744 \uc785\ub825\ubc1b\uc544 \uac01 \ub2e8\uc5b4\uc758 \uccab\uae00\uc790\ub85c \uc774\ub8e8\uc5b4\uc9c4 \ub2e8\uc5b4\ub97c \ub300\ubb38\uc790\ub85c \ucd9c\ub825\ud558\ub294 myinitial() \ud568\uc218\ub97c \ub2e4\uc74c \uc870\uac74\uc744 \ucc38\uace0\ud558\uc5ec \uc791\uc131\ud558\uc2dc\uc624.\n",
      "- 1) split, map, join \ud568\uc218\ub97c \ubaa8\ub450 \uc774\uc6a9\ud574\uc57c \ud55c\ub2e4.\n",
      "- 2) myinitial() \ud568\uc218 \uc0ac\uc6a9 \uc608</b>\n",
      "        myinitial(\"as soon as possible\")\n",
      "        ASAP"
     ]
    },
    {
     "cell_type": "code",
     "collapsed": false,
     "input": [
      "s = \"as soon as possible\"\n",
      "\n",
      "def myinitial(s):\n",
      "    l = [i[0] for i in s.split()]\n",
      "    l2 = map(lambda x: x.upper(), l)\n",
      "    s2 = ''.join(l2)\n",
      "    return s2\n",
      "\n",
      "print myinitial(s)"
     ],
     "language": "python",
     "metadata": {},
     "outputs": [
      {
       "output_type": "stream",
       "stream": "stdout",
       "text": [
        "ASAP\n"
       ]
      }
     ],
     "prompt_number": 16
    },
    {
     "cell_type": "markdown",
     "metadata": {},
     "source": [
      "\ubb38\uc790\uc5f4\uc744 \uac00\uc7a5 \uba3c\uc800 split\ub97c \uc0ac\uc6a9\ud558\uc5ec \uacf5\ubc31\uc73c\ub85c \ubd84\ub9ac\ud558\uace0 \ubd84\ub9ac\ub41c \ub2e8\uc5b4\ub4e4 \uc911 \uccab\ubc88\uc9f8 \ub2e8\uc5b4\ub9cc \uace8\ub77c\uc11c \ub9ac\uc2a4\ud2b8\ub97c \ub9cc\ub4e0\ub2e4. map\uc744 \uc0ac\uc6a9\ud558\uc5ec \ub9ac\uc2a4\ud2b8 \uc6d0\uc18c\ub4e4\uc744 \uc804\ubd80 \ub300\ubb38\uc790\ub85c \ubc14\uafbc\ub2e4. join\uc744 \uc0ac\uc6a9\ud558\uc5ec \ub9ac\uc2a4\ud2b8 \uc6d0\uc18c\ub4e4\uc744 \uc804\ubd80 \ud569\uce5c\ub2e4."
     ]
    },
    {
     "cell_type": "heading",
     "level": 1,
     "metadata": {},
     "source": [
      " "
     ]
    },
    {
     "cell_type": "markdown",
     "metadata": {},
     "source": [
      "<b>[6\ubc88 \ubb38\uc81c] \uc74c\uc774 \uc544\ub2cc \uc815\uc218 n\ub97c \uc785\ub825\ubc1b\uc73c\uba74 n! (factorial)\uc744 \uacc4\uc0b0\ud558\ub294 myfact() \ud568\uc218\ub97c \uc7ac\uadc0\uc801 \ud568\uc218\ub85c \uad6c\ud604\ud558\uc2dc\uc624.</b>"
     ]
    },
    {
     "cell_type": "code",
     "collapsed": false,
     "input": [
      "def myfact(n) :\n",
      "    if(n == 1): return 1\n",
      "    return n * myfact(n-1)\n",
      "\n",
      "n = input('num: ')\n",
      "print myfact(n)"
     ],
     "language": "python",
     "metadata": {},
     "outputs": [
      {
       "name": "stdout",
       "output_type": "stream",
       "stream": "stdout",
       "text": [
        "num: 9\n"
       ]
      },
      {
       "output_type": "stream",
       "stream": "stdout",
       "text": [
        "362880\n"
       ]
      }
     ],
     "prompt_number": 27
    },
    {
     "cell_type": "heading",
     "level": 1,
     "metadata": {},
     "source": [
      " "
     ]
    },
    {
     "cell_type": "markdown",
     "metadata": {},
     "source": [
      "<b>[7\ubc88 \ubb38\uc81c] (\uc11c\uc220\ud615) import string \uacfc from string import * \uc758 \ucc28\uc774\uc810\uc744 \uc124\uba85\ud558\uc2dc\uc624.</b>"
     ]
    },
    {
     "cell_type": "markdown",
     "metadata": {},
     "source": [
      "'import string'\uc740 \ubaa8\ub4c8\uc744 import\ud558\ub294 \uac00\uc7a5 \uae30\ubcf8\uc801\uc778 \ud615\ud0dc\uc774\ub2e4. 'from string import *'\uc740 import\ud558\ub294 \ubaa8\ub4c8\uc758 \ud558\uc704 \ubaa8\ub4c8(\ud568\uc218)\uae4c\uc9c0 \ucc38\uc870\ud560 \uc218 \uc788\ub3c4\ub85d \ubaa8\ub450 import\ud558\ub294 \uac83\uc774\ub2e4. \uae30\ubcf8\uc801\uc73c\ub85c \ud558\uc704\uc758 \ubaa8\ub4e0 \ubaa8\ub4c8\uc744 import\ud558\ub294 \uac83\uc774 \ub514\ud3f4\ud2b8\uc774\uace0, '__init__.py' \ub0b4\ubd80\uc5d0\uc11c ' __all__ = ['HMM', 'NN'] ' \uc774\ub7f0\uc2dd\uc73c\ub85c \ud2b9\uc815 \ubaa8\ub4c8(\ud568\uc218)\ub97c \uc9c0\uc815\ud558\uac70\ub098 \ube84 \uc218 \uc788\ub2e4. \uc774\ub807\uac8c \uc124\uc815\ud558\uba74 'HMM', 'NN' \ubaa8\ub4c8\uc744 \ucc38\uc870\uac00\ub2a5\ud558\uba70, \uc120\uc5b8\ub418\uc9c0 \uc54a\uc740 'DTW' \ubaa8\ub4c8\uc744 \ucc38\uc870 \ubd88\uac00\ub2a5\ud558\ub2e4. "
     ]
    },
    {
     "cell_type": "heading",
     "level": 1,
     "metadata": {},
     "source": [
      " "
     ]
    },
    {
     "cell_type": "markdown",
     "metadata": {},
     "source": [
      "<b>[8\ubc88 \ubb38\uc81c] \uc774\uc804 Assignment 3\uc758 \ub9c8\uc9c0\ub9c9 \ubb38\uc81c\ub294 \uc6f9 URL\ub85c \uc9c0\uc815\ub41c \uc6f9\ud398\uc774\uc9c0\ub97c \ubb38\uc790\uc5f4\ub85c \uac00\uc838\uc640 \ubaa8\ub4e0 HTML \ud0dc\uadf8 \ubc0f CSS\uc640 Javascript\ub97c \uc81c\uc678\ud55c \uc21c\uc218 \ud14d\uc2a4\ud2b8\ub97c \uc5bb\uc5b4\ub0b4\uace0 \uadf8 \uc548\uc5d0 \uc874\uc7ac\ud558\ub294 \ub2e8\uc5b4\ub97c \ucd94\ucd9c\ud558\uc5ec \uac01 \ub2e8\uc5b4\ub4e4\uc5d0 \ub300\ud574 \ucd9c\ud604\ube48\ub3c4\ub97c \uc0ac\uc804\ud615\ud0dc({'world': 2, 'hello': 1, 'python': 1})\ub85c \uc800\uc7a5\ud558\uc5ec \ucd9c\ub825\ud558\ub294 \uac83\uc774\uc5c8\ub2e4. \uc774\ubc88\uc5d0\ub294 Assignment 3\ub97c \ud655\uc7a5\ud558\uc5ec \ub2e4\uc74c\uacfc \uac19\uc740 \uc870\uac74\uc744 \ub9cc\uc871\ud558\ub3c4\ub85d \uad6c\ud604\ud558\uc2dc\uc624.\n",
      "- 1) \uac01 URL\ub85c \uc9c0\uc815\ub41c \uc6f9\ud398\uc774\uc9c0\uc758 HTML \uc18c\uc2a4\ub97c \ud30c\uc77c\ub85c \uc800\uc7a5\ud558\uc2dc\uc624.</b>\n",
      "    - URL\uc774 http://URL \uc774\ub77c\uba74 \ud30c\uc77c\uba85\uc740 URL.html \uc774\ub2e4.\n",
      "    - \uc608: URL\uc774 http://www.koreatech.ac.kr \uc774\ub77c\uba74 \ud30c\uc77c\uba85\uc740 www.koreatech.ac.kr.html \uc774\ub2e4.\n",
      "- <b>2) \ub2e8\uc5b4\uc758 \ucd9c\ud604\ube48\ub3c4\uac00 \ub2f4\uae34 \uc0ac\uc804 \uac1d\uccb4\ub97c \uc704 HTML \uc18c\uc2a4 \ud30c\uc77c\uacfc \ub3d9\uc77c\ud55c \ud3f4\ub354\uc5d0 \ud30c\uc77c\ub85c \uc800\uc7a5\ud558\uc2dc\uc624.</b>\n",
      "    - \uad50\uc7ac 11-2 \ud53c\ud074\ub9c1 \ubc29\ubc95\uc744 \ud65c\uc6a9\ud558\uc2dc\uc624.\n",
      "    - URL\uc774 http://URL \uc774\ub77c\uba74 \ud30c\uc77c\uba85\uc740 URL.words.frequency \uc774\ub2e4.\n",
      "    - \uc608: URL\uc774 http://www.koreatech.ac.kr \uc774\ub77c\uba74 \ud30c\uc77c\uba85\uc740 www.koreatech.ac.kr.words.frequency \uc774\ub2e4.\n",
      "- <b>3) \ucd5c\uc18c 5\uac1c \uc774\uc0c1\uc758 \uc6f9 \uc0ac\uc774\ud2b8\uc5d0 \ub300\ud55c HTML \uc18c\uc2a4 \ud30c\uc77c\uacfc \ub2e8\uc5b4 \ucd9c\ud604\ube48\ub3c4 \ud30c\uc77c\uc744 \uc800\uc7a5\ud558\uc2dc\uc624.</b>\n",
      "    - \uc989, \ucd1d 10\uac1c\uc758 \ud30c\uc77c\uc744 \ub3d9\uc77c\ud55c \ud3f4\ub354\uc5d0 \uc0dd\uc131\ud558\uc2dc\uc624."
     ]
    },
    {
     "cell_type": "code",
     "collapsed": false,
     "input": [
      "import urllib\n",
      "import string\n",
      "import os\n",
      "import pickle\n",
      "\n",
      "url_list = [\"https://www.google.co.uk\", \"http://link.koreatech.ac.kr\", \"https://www.python.org\",\\\n",
      "            \"http://www.valvesoftware.com\", \"https://www.lush.co.uk\"]\n",
      "ind_list = [u.rfind('//') + 2 for u in url_list]\n",
      "c_dict = {}\n",
      "\n",
      "# ------------------------------------------------------- #\n",
      "def assignment2(source, len_source) :\n",
      "    source_new = None\n",
      "    i = 0\n",
      "    while (i < len_source):\n",
      "        found = False\n",
      "        if (found != True and source[i] == \"<\" and source[i+1 : i+7].lower() == \"script\"):\n",
      "            found = True;\n",
      "            j = i + 7;\n",
      "            while (True):\n",
      "                if (source[j] == \"<\" and source[j+1] == \"/\" and source[j+2 : j+8].lower() == \"script\"):\n",
      "                    source = source[:i] + ' ' + source[j+9:]\n",
      "                    break\n",
      "                j = j + 1\n",
      "                if (j > len_source):\n",
      "                    break\n",
      "            len_source = len(source)\n",
      "        i = i + 1\n",
      "    len_source = len(source)\n",
      "\n",
      "    i = 0\n",
      "    while (i < len_source):\n",
      "        found = False\n",
      "        if (found != True and source[i] == \"<\" and source[i+1 : i+6].lower() == \"style\"):\n",
      "            found = True;\n",
      "            j = i + 6;\n",
      "            while (True):\n",
      "                if (source[j] == \"<\" and source[j+1] == \"/\" and source[j+2 : j+7].lower() == \"style\"):\n",
      "                    source = source[:i] + ' ' + source[j+8:]\n",
      "                    break\n",
      "                j = j + 1\n",
      "                if (j > len_source):\n",
      "                    break\n",
      "            len_source = len(source)\n",
      "        i = i + 1\n",
      "\n",
      "    len_source = len(source)\n",
      "\n",
      "    i = 0\n",
      "    while (i < len_source):\n",
      "        found = False\n",
      "        if (found != True and source[i] == \"<\"):\n",
      "            found = True;\n",
      "            j = i + 1;\n",
      "            while (True):\n",
      "                if (source[j] == \">\"):\n",
      "                    source = source[:i] + ' ' + source[j+1:]\n",
      "                    break\n",
      "                j = j + 1\n",
      "                if (j > len_source):\n",
      "                    break\n",
      "            len_source = len(source)\n",
      "        i = i + 1\n",
      "    words = source.split()\n",
      "    assignment3(words)\n",
      "    \n",
      "def assignment3(words) :\n",
      "    global c_dict\n",
      "    c_dict = {}\n",
      "    f_word = [ w.strip(string.punctuation) for w in words ]\n",
      "    while ('' in f_word):\n",
      "        del f_word[f_word.index('')]\n",
      "    for i in f_word:\n",
      "        if(i in c_dict) : continue # \ud0a4\uac12\uc744 \uce74\uc6b4\ud2b8\ud574\uc11c \ub123\uae30\ub54c\ubb38\uc5d0 \ub610 \ub098\uc628\ub2e4\uba74 \ub118\uc5b4\uac04\ub2e4\n",
      "        else :\n",
      "            c_dict[i] = f_word.count(i)\n",
      "       \n",
      "# ------------------------------------------------------- #\n",
      "\n",
      "def source_save(url_name, url_idx) :\n",
      "    source = urllib.urlopen(url_name).read()\n",
      "    len_source = len(source)\n",
      "    \n",
      "    f = open('%s.html' % url_name[url_idx:], 'w')\n",
      "    f.write(source)\n",
      "    f.close()\n",
      "    print \"'%s.html' \ud30c\uc77c\uc744 \uc800\uc7a5\ud569\ub2c8\ub2e4 - - -\" % url_name[url_idx:]\n",
      "    assignment2(source, len_source)\n",
      "    \n",
      "def dict_save(url_name, url_idx) :\n",
      "    f1 = open('%s' % url_name[url_idx:] + '.words.frequency.txt', 'wb')\n",
      "    pickle.dump(c_dict, f1)\n",
      "    f1.close()\n",
      "    print \"'%s.words.frequency.txt' \ud30c\uc77c\uc744 \uc800\uc7a5\ud569\ub2c8\ub2e4 - - -\" % url_name[url_idx:]\n",
      "\n",
      "j = 0\n",
      "p_c = 0\n",
      "for i in url_list:\n",
      "    print i\n",
      "    source_save(i, ind_list[j])\n",
      "    dict_save(i, ind_list[j])\n",
      "    print\n",
      "    j = j + 1"
     ],
     "language": "python",
     "metadata": {},
     "outputs": [
      {
       "output_type": "stream",
       "stream": "stdout",
       "text": [
        "https://www.google.co.uk\n",
        "'www.google.co.uk.html' \ud30c\uc77c\uc744 \uc800\uc7a5\ud569\ub2c8\ub2e4 - - -"
       ]
      },
      {
       "output_type": "stream",
       "stream": "stdout",
       "text": [
        "\n",
        "'www.google.co.uk.words.frequency.txt' \ud30c\uc77c\uc744 \uc800\uc7a5\ud569\ub2c8\ub2e4 - - -\n",
        "\n",
        "http://link.koreatech.ac.kr\n",
        "'link.koreatech.ac.kr.html' \ud30c\uc77c\uc744 \uc800\uc7a5\ud569\ub2c8\ub2e4 - - -"
       ]
      },
      {
       "output_type": "stream",
       "stream": "stdout",
       "text": [
        "\n",
        "'link.koreatech.ac.kr.words.frequency.txt' \ud30c\uc77c\uc744 \uc800\uc7a5\ud569\ub2c8\ub2e4 - - -\n",
        "\n",
        "https://www.python.org\n",
        "'www.python.org.html' \ud30c\uc77c\uc744 \uc800\uc7a5\ud569\ub2c8\ub2e4 - - -"
       ]
      },
      {
       "output_type": "stream",
       "stream": "stdout",
       "text": [
        "\n",
        "'www.python.org.words.frequency.txt' \ud30c\uc77c\uc744 \uc800\uc7a5\ud569\ub2c8\ub2e4 - - -"
       ]
      },
      {
       "output_type": "stream",
       "stream": "stdout",
       "text": [
        "\n",
        "\n",
        "http://www.valvesoftware.com\n",
        "'www.valvesoftware.com.html' \ud30c\uc77c\uc744 \uc800\uc7a5\ud569\ub2c8\ub2e4 - - -"
       ]
      },
      {
       "output_type": "stream",
       "stream": "stdout",
       "text": [
        "\n",
        "'www.valvesoftware.com.words.frequency.txt' \ud30c\uc77c\uc744 \uc800\uc7a5\ud569\ub2c8\ub2e4 - - -"
       ]
      },
      {
       "output_type": "stream",
       "stream": "stdout",
       "text": [
        "\n",
        "\n",
        "https://www.lush.co.uk\n",
        "'www.lush.co.uk.html' \ud30c\uc77c\uc744 \uc800\uc7a5\ud569\ub2c8\ub2e4 - - -"
       ]
      },
      {
       "output_type": "stream",
       "stream": "stdout",
       "text": [
        "\n",
        "'www.lush.co.uk.words.frequency.txt' \ud30c\uc77c\uc744 \uc800\uc7a5\ud569\ub2c8\ub2e4 - - -\n",
        "\n"
       ]
      }
     ],
     "prompt_number": 23
    },
    {
     "cell_type": "markdown",
     "metadata": {},
     "source": [
      "1. assignment2, assignment3 \ud568\uc218\ub97c \ub9cc\ub4e4\uc5b4 \uae30\uc874 \uacfc\uc81c\uc5d0\uc11c \uc218\ud589\ud588\ub358 \ub0b4\uc6a9\uc744 \ub2f4\uc544 \ubc18\ubcf5\uc0ac\uc6a9\ud560 \uc218 \uc788\ub3c4\ub85d \ud558\uc600\ub2e4.<br>\n",
      "2. \ucc98\uc74c url\uc5d0\uc11c \uc18c\uc2a4\ub97c \uc77d\uc5b4\uc11c \ub9cc\ub4e0 \ubb38\uc790\uc5f4 source\uc758 \ub0b4\uc6a9\uc744 \uadf8\ub300\ub85c 'url\uba85'.html \ud30c\uc77c\uc5d0 \uc800\uc7a5\ud588\ub2e4<br>\n",
      "3. \ucd9c\ud604\ube48\ub3c4 \uc0ac\uc804\uc744 \ub9c8\uc9c0\ub9c9\uc5d0 \ud53c\ud074\ub9c1\uc744 \uc774\uc6a9\ud558\uc5ec txt\ud30c\uc77c\uc5d0 \uc800\uc7a5\ud588\ub2e4.<br>\n",
      "4. url\uba85 \ub9ac\uc2a4\ud2b8\uc640 \ud30c\uc77c\uba85\uc744 \ub9cc\ub4e4\uae30\uc704\ud55c \uc778\ub371\uc2a4 \ub9ac\uc2a4\ud2b8\ub97c \ub9cc\ub4e4\uc5b4 5\uac1c\uc758 \uc0ac\uc774\ud2b8\ub97c \uc800\uc7a5\ud558\ub294 \uacfc\uc815\uc744 for\ubb38\uc744 \uc774\uc6a9\ud574 \ubc18\ubcf5\uc218\ud589\ud558\uc600\ub2e4.  "
     ]
    },
    {
     "cell_type": "heading",
     "level": 1,
     "metadata": {},
     "source": [
      "  "
     ]
    },
    {
     "cell_type": "markdown",
     "metadata": {},
     "source": [
      "<b>[9\ubc88 \ubb38\uc81c] \uc704 \ubb38\uc81c\uc5d0\uc11c \uc800\uc7a5\ud55c \ubaa8\ub4e0 words.frequency \ud30c\uc77c\ub4e4\uc744 \ub85c\ub4dc \ud558\uc5ec \ubcf8\uc778\uc774 \uc800\uc7a5\ud558\uc5ec \ubd84\uc11d\ud55c \uc0ac\uc774\ud2b8\ub4e4\uc5d0\uc11c \uac00\uc7a5 \ub9ce\uc774 \ucd9c\ud604\ud55c \ub2e8\uc5b4\ub97c \ubf51\uc544 \uc81c\uc2dc\ud558\uc2dc\uc624.\n",
      "8\ubc88 \ubb38\uc81c\uc640\ub294 \ub2e4\ub978 \ubcc4\ub3c4\uc758 \ud504\ub85c\uadf8\ub7a8\uc73c\ub85c \uc791\uc131\ud558\uc2dc\uc624.</b>"
     ]
    },
    {
     "cell_type": "code",
     "collapsed": false,
     "input": [
      "import os\n",
      "import string\n",
      "import pickle\n",
      "\n",
      "url_list = [\"https://www.google.co.uk\", \"http://link.koreatech.ac.kr\", \"https://www.python.org\",\\\n",
      "            \"http://www.valvesoftware.com\", \"https://www.lush.co.uk\"]\n",
      "ind_list = [u.rfind('//') + 2 for u in url_list]\n",
      "\n",
      "def url_cvt(url_name, url_idx) :\n",
      "    f = open('%s' % url_name[url_idx:] + '.words.frequency.txt', 'rb')\n",
      "    p = pickle.load(f)\n",
      "    dict_update(p)\n",
      "    \n",
      "def dict_update(d) :\n",
      "    for k, v in d.items():\n",
      "        for j in range(int(v)):\n",
      "            d_list.append(k)\n",
      "        \n",
      "d_list = []\n",
      "j = 0\n",
      "for i in url_list:\n",
      "    url_cvt(i, ind_list[j])\n",
      "    j = j + 1\n",
      "\n",
      "d_dict = {}   \n",
      "for i in d_list:\n",
      "    if(i in d_dict) : continue\n",
      "    else :\n",
      "        d_dict[i] = d_list.count(i)\n",
      "\n",
      "max_value = max(d_dict.values())\n",
      "for k, v in d_dict.items():\n",
      "    if v == max_value:\n",
      "        print url_list\n",
      "        print \"\uc704 \uc0ac\uc774\ud2b8\ub4e4 \uc911\uc5d0\uc11c \uac00\uc7a5 \ub9ce\uc774 \ucd9c\ud604\ud55c \ub2e8\uc5b4\ub294 '%s' \uc774\uba70, \ucd1d %d\ubc88 \ucd9c\ud604\ud588\ub2e4\" % (k, v)"
     ],
     "language": "python",
     "metadata": {},
     "outputs": [
      {
       "output_type": "stream",
       "stream": "stdout",
       "text": [
        "['https://www.google.co.uk', 'http://link.koreatech.ac.kr', 'https://www.python.org', 'http://www.valvesoftware.com', 'https://www.lush.co.uk']\n",
        "\uc704 \uc0ac\uc774\ud2b8\ub4e4 \uc911\uc5d0\uc11c \uac00\uc7a5 \ub9ce\uc774 \ucd9c\ud604\ud55c \ub2e8\uc5b4\ub294 'Python' \uc774\uba70, \ucd1d 55\ubc88 \ucd9c\ud604\ud588\ub2e4\n"
       ]
      }
     ],
     "prompt_number": 26
    },
    {
     "cell_type": "markdown",
     "metadata": {},
     "source": [
      "1. \ud53c\ud074\ub9c1\uc744 \uc774\uc6a9\ud558\uc5ec \uc800\uc7a5\ud574\ub193\uc740 txt\ud30c\uc77c\uc5d0\uc11c \uc0ac\uc804\uac1d\uccb4 \uadf8\ub300\ub85c \ub0b4\uc6a9\uc744 \ubd88\ub7ec\uc628\ub2e4. <br>\n",
      "2. \ubaa8\ub4e0 \uac01 \uc0ac\uc804\uc5d0 \uc788\ub294 \ub0b4\uc6a9\ub4e4\uc744 \uc804\ubd80 \ub9ac\uc2a4\ud2b8\ub85c \ub9cc\ub4e4\uc5b4 d_list \uac1d\uccb4\uc5d0 \uc800\uc7a5\ud588\ub2e4. <br>\n",
      "3. d_list\ub97c \uc0ac\uc804\uc73c\ub85c \ub9cc\ub4e0\ub2e4. \uac00\uc7a5 value \uac12\uc774 \ub192\uc740 \ub2e8\uc5b4\ub97c \ucd9c\ub825\ud55c\ub2e4."
     ]
    },
    {
     "cell_type": "heading",
     "level": 1,
     "metadata": {},
     "source": [
      "  "
     ]
    },
    {
     "cell_type": "heading",
     "level": 6,
     "metadata": {},
     "source": [
      " "
     ]
    },
    {
     "cell_type": "markdown",
     "metadata": {},
     "source": [
      "<b>\uc18c\uac10</b> : \ud30c\uc774\uc36c\uc5d0\ub294 \ud2b9\ud788 \uae38\uace0 \ubcf5\uc7a1\ud558\uac8c \uad6c\ud604\ud574\uc57c\ud560 \ub0b4\uc6a9\uc744 \uc27d\uac8c \uc218\ud589\ud560 \uc218 \uc788\ub3c4\ub85d \uc88b\uc740 \uae30\uc874\uc758 \uba54\uc18c\ub4dc\uc640 \ubaa8\ub4c8\uc774 \uc788\ub294 \uac83 \uac19\ub2e4. \uadf8\ub7f0 \ubaa8\ub4c8\ub4e4\uc744 \uc774\uc6a9\ud574\uc11c \uc880\ub354 \uae54\ub054\ud558\uace0 \uc54c\uae30 \uc27d\uac8c \ucf54\ub529\uc744 \ud558\uae30 \uc704\ud574\uc11c\ub294 \ubb34\uc791\uc815 \uc2a4\uc2a4\ub85c \uc9dc\ub824\uace0\ud558\ub294 \uac83\ubcf4\ub2e4 \uac80\uc0c9\ud558\uc5ec \uae30\uc874 \uc18c\uc2a4\ub4e4\uc744 \uc77d\uc5b4\ubcf4\ub294 \uac83\uc774 \uc88b\ub2e4\uace0 \uc0dd\uac01\ud55c\ub2e4. \uadf8\ub7fc\uc5d0\ub3c4 \ub09c \uadf8\ub7f0 \uac80\uc0c9\ub2a5\ub825\uc774 \ubd80\uc871\ud574 \uac80\uc0c9\ud558\uc9c0 \uc54a\uace0 \uc9c1\uc811 \uc9dc\ub824\uace0\ub9cc \ud588\ub2e4. \uc774\ubc88 \uacfc\uc81c\ub97c \ud558\uba74\uc11c \uba38\ub9ac\uac00 \ub098\uc058\uba74 \ubab8\uc774 \uace0\uc0dd\ud55c\ub2e4\ub294 \uc0dd\uac01\uc774 \uacc4\uc18d \ub4e4\uc5c8\ub2e4. \uc88b\uc740 \uba54\uc18c\ub4dc, \ubaa8\ub4c8\uc744 \uc0ac\uc6a9\ud558\uc9c0 \uc54a\uace0 \uc5b4\ub5bb\uac8c\ub4e0 \ubb38\uc790\uc5f4\uc744 \uc790\ub974\uace0 \ubd99\uc774\uace0 \ub9cc\ub4e0 \ucf54\ub4dc\ub4e4\uc740 \uac00\ub3c5\uc131\ub3c4 \ub5a8\uc5b4\uc9c0\uace0 \uc4f8\ub370\uc5c6\uc774 \uae38\uae30\ub9cc \ud55c \uac83 \uac19\ub2e4. \ucf54\ub529\ub2a5\ub825\ub3c4 \uc88b\uc9c0\ub9cc \uac80\uc0c9\ud558\ub294 \ub2a5\ub825\ub3c4 \uae30\ub974\ub3c4\ub85d \ub178\ub825\ud574\ubd10\uc57c \uaca0\ub2e4. "
     ]
    }
   ],
   "metadata": {}
  }
 ]
}