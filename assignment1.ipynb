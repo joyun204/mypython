{
 "metadata": {
  "name": "",
  "signature": "sha256:3abc03ba91b34e206ddb990631b78ab10572aaf04ad104d68e78069aae230152"
 },
 "nbformat": 3,
 "nbformat_minor": 0,
 "worksheets": [
  {
   "cells": [
    {
     "cell_type": "heading",
     "level": 1,
     "metadata": {},
     "source": [
      "\uc2a4\ud06c\ub9bd\ud2b8 \ud504\ub85c\uadf8\ub798\ubc0d"
     ]
    },
    {
     "cell_type": "heading",
     "level": 2,
     "metadata": {},
     "source": [
      "Assignment 1"
     ]
    },
    {
     "cell_type": "heading",
     "level": 3,
     "metadata": {},
     "source": [
      "2011136080 \uc724\uc9c4\uc625"
     ]
    },
    {
     "cell_type": "heading",
     "level": 3,
     "metadata": {},
     "source": [
      "\uc81c\ucd9c\uc77c : 2014.09.17"
     ]
    },
    {
     "cell_type": "heading",
     "level": 1,
     "metadata": {},
     "source": [
      " "
     ]
    },
    {
     "cell_type": "heading",
     "level": 4,
     "metadata": {},
     "source": [
      " "
     ]
    },
    {
     "cell_type": "markdown",
     "metadata": {},
     "source": [
      "<b>1) a=\"Hello Python\" \ubb38\uc790\uc5f4\uc744 Slicing\uacfc \uc5f0\uacb0 \uc5f0\uc0b0\uc790 (+)\ub97c \uc0ac\uc6a9\ud558\uc5ec \"Python Hello\"\ub85c \ubcc0\uacbd\ud558\uc2dc\uc624.</b>"
     ]
    },
    {
     "cell_type": "code",
     "collapsed": false,
     "input": [
      "a = \"Hello Python\"\n",
      "a = a[6:] + a[5] + a[:5]\n",
      "a"
     ],
     "language": "python",
     "metadata": {},
     "outputs": [
      {
       "metadata": {},
       "output_type": "pyout",
       "prompt_number": 1,
       "text": [
        "'Python Hello'"
       ]
      }
     ],
     "prompt_number": 1
    },
    {
     "cell_type": "markdown",
     "metadata": {},
     "source": [
      "'Python' \uacfc 'Hello' \uc758 \uc704\uce58\ub97c \ubc14\uafb8\uae30 \uc704\ud558\uc5ec, \ubb38\uc790\uc5f4 a\ub97c slicing \ud558\uc5ec \ub2e4\uc2dc \ubb38\uc790\uc5f4 a\uc5d0 \ub123\ub294\ub2e4. (\uacf5\ubc31\uc744 \ud45c\ud604\ud558\uae30 \uc704\ud574 a\uc758 5\ubc88\uc9f8 \ubb38\uc790\ub97c slicing \ud558\uc5ec \uc911\uac04\uc5d0 \ub123\uc5b4\uc8fc\uc5c8\ub2e4.)"
     ]
    },
    {
     "cell_type": "heading",
     "level": 1,
     "metadata": {},
     "source": [
      " "
     ]
    },
    {
     "cell_type": "markdown",
     "metadata": {},
     "source": [
      "<b>2) b=\"Hello Python World\" \ubb38\uc790\uc5f4\uc744 Slicing\uacfc \uc5f0\uacb0 \uc5f0\uc0b0\uc790 (+)\ub97c \uc0ac\uc6a9\ud558\uc5ec \"World Python Hello\"\ub85c \ubcc0\uacbd\ud558\uc2dc\uc624.</b>"
     ]
    },
    {
     "cell_type": "code",
     "collapsed": false,
     "input": [
      "b = \"Hello Python World\"\n",
      "b = b[13:] +b[5:13] + b[:5]\n",
      "b"
     ],
     "language": "python",
     "metadata": {},
     "outputs": [
      {
       "metadata": {},
       "output_type": "pyout",
       "prompt_number": 2,
       "text": [
        "'World Python Hello'"
       ]
      }
     ],
     "prompt_number": 2
    },
    {
     "cell_type": "markdown",
     "metadata": {},
     "source": [
      "\ubb38\uc81c 1)\uacfc \ub9c8\ucc2c\uac00\uc9c0\ub85c 'Hello', 'Python', 'World' \uc758 \ub2e8\uc5b4\ub97c \uac01\uac01 slicing \ud558\uc5ec \ubb38\uc81c\uc5d0\uc11c \uc8fc\uc5b4\uc9c4 \ubb38\uc7a5\ub300\ub85c \ub2e4\uc2dc b\uc5d0 \uc21c\uc11c\ub300\ub85c \ub123\ub294\ub2e4. \uacf5\ubc31\uc5ed\uc2dc 1)\uacfc \uac19\uc740 \uc758\ubbf8\uc774\ub2e4. "
     ]
    },
    {
     "cell_type": "heading",
     "level": 1,
     "metadata": {},
     "source": [
      " "
     ]
    },
    {
     "cell_type": "markdown",
     "metadata": {},
     "source": [
      "<b>3) c=\"Hello\"\ub97c \"olleH\"\ub85c \ubcc0\uacbd\ud558\uc2dc\uc624.</b>"
     ]
    },
    {
     "cell_type": "code",
     "collapsed": false,
     "input": [
      "c = \"Hello\"\n",
      "c = c[::-1]\n",
      "c"
     ],
     "language": "python",
     "metadata": {},
     "outputs": [
      {
       "metadata": {},
       "output_type": "pyout",
       "prompt_number": 3,
       "text": [
        "'olleH'"
       ]
      }
     ],
     "prompt_number": 3
    },
    {
     "cell_type": "markdown",
     "metadata": {},
     "source": [
      "\ubb38\uc790\uc5f4\uc744 \uac70\uafb8\ub85c \uc7ac\ubc30\uc5f4\ud574\uc8fc\ub294 [::-1]\uc744 \uc0ac\uc6a9\ud55c\ub2e4"
     ]
    },
    {
     "cell_type": "heading",
     "level": 1,
     "metadata": {},
     "source": [
      " "
     ]
    },
    {
     "cell_type": "markdown",
     "metadata": {},
     "source": [
      "<b>4) s=\"python\"\uc5d0 \ub300\ud574 \ub2e4\uc74c \ubb38\uc81c\ub97c \ud480\uc5b4\ubcf4\uc2dc\uc624.</b>"
     ]
    },
    {
     "cell_type": "markdown",
     "metadata": {},
     "source": [
      "- <b>s[0], s[0][0], s[0][0][0]\uc740 \uac01\uac01 \uc5b4\ub5a4 \uac12\uc774 \ub098\uc624\ub294\uc9c0 \ud655\uc778\ud558\uace0 \uadf8 \uc774\uc720\ub97c \ub098\ub984\ub300\ub85c \uc124\uba85\ud574 \ubcf4\uc2dc\uc624.</b>"
     ]
    },
    {
     "cell_type": "code",
     "collapsed": false,
     "input": [
      "s = \"python\"\n",
      "print s[0]\n",
      "print s[0][0]\n",
      "print s[0][0][0]"
     ],
     "language": "python",
     "metadata": {},
     "outputs": [
      {
       "output_type": "stream",
       "stream": "stdout",
       "text": [
        "p\n",
        "p\n",
        "p\n"
       ]
      }
     ],
     "prompt_number": 25
    },
    {
     "cell_type": "markdown",
     "metadata": {},
     "source": [
      "s\ub294 \ubb38\uc790\uc5f4 'python'\uc774\ub780 \uac1d\uccb4\ub9cc\uc744 \uac00\ub9ac\ud0a8\ub2e4. \ub530\ub77c\uc11c s[0]\ub294 \uccab\ubc88\uc9f8 \ubb38\uc790 p\ub97c \uac00\ub9ac\ud0a8\ub2e4. \uadf8\ub7ec\ub098 s\ub294 \uc774\ucc28\uc6d0\ubc30\uc5f4\ub3c4, \ub9ac\uc2a4\ud2b8\ub97c \ud3ec\ud568\ud55c \ub9ac\uc2a4\ud2b8\ub3c4 \uc544\ub2c8\ubbc0\ub85c s[0]\uc740 p\uc77c \ubfd0 \ub610\ub2e4\ub978 \uac1d\uccb4\ub97c \uac00\ub9ac\ud0a4\uc9c0\ub294 \uc54a\ub294\ub2e4. \uc989 s[0][]\uc740 \uc131\ub9bd\ud558\uc9c0 \uc54a\ub294\ub2e4. \ub2e4\ub9cc \ub450 \ubc88\uc9f8 \uc778\ub371\uc2a4\uac00 0\uc77c \ub54c, s[0][0]\uc77c \ub54c\ub294 \ubcf8\uc778(s[0])\ub97c \uac00\ub9ac\ud0a4\ub294 \uac83\uc774\ubbc0\ub85c p\uac00 \ucd9c\ub825\ub418\uba70 \uc624\ub958\uac00 \uc0dd\uae30\uc9c0 \uc54a\ub294\ub2e4. \uadf8 \ubc18\uc99d\uc73c\ub85c s[0][0]\uc744 \uc81c\uc678\ud55c s[0][1]\uacfc \uac19\uc740 \ubb38\uc7a5\uc740 \uc624\ub958\uac00 \ubc1c\uc0dd\ud55c\ub2e4. s[0][0][0]\ub3c4 \uc774\uc640 \uac19\uc740 \uc774\uc720\uc774\ub2e4."
     ]
    },
    {
     "cell_type": "heading",
     "level": 6,
     "metadata": {},
     "source": [
      " "
     ]
    },
    {
     "cell_type": "markdown",
     "metadata": {},
     "source": [
      "- <b>s[-100], s[100]\uc740 \uac12\uc774 \ub098\uc624\ub294\uc9c0 \uc5d0\ub7ec\uac00 \ub098\uc624\ub294\uc9c0 \ud655\uc778\ud558\uace0 \uadf8 \uacb0\uacfc\uc5d0 \ub300\ud55c \uc774\uc720\ub97c \ub098\ub984\ub300\ub85c \uc124\uba85\ud574 \ubcf4\uc2dc\uc624.</b>"
     ]
    },
    {
     "cell_type": "code",
     "collapsed": false,
     "input": [
      "s = \"python\"\n",
      "print s[-100]\n",
      "print s[100]"
     ],
     "language": "python",
     "metadata": {},
     "outputs": [
      {
       "ename": "IndexError",
       "evalue": "string index out of range",
       "output_type": "pyerr",
       "traceback": [
        "\u001b[1;31m---------------------------------------------------------------------------\u001b[0m\n\u001b[1;31mIndexError\u001b[0m                                Traceback (most recent call last)",
        "\u001b[1;32m<ipython-input-36-718992b44bbf>\u001b[0m in \u001b[0;36m<module>\u001b[1;34m()\u001b[0m\n\u001b[0;32m      1\u001b[0m \u001b[0ms\u001b[0m \u001b[1;33m=\u001b[0m \u001b[1;34m\"python\"\u001b[0m\u001b[1;33m\u001b[0m\u001b[0m\n\u001b[1;32m----> 2\u001b[1;33m \u001b[1;32mprint\u001b[0m \u001b[0ms\u001b[0m\u001b[1;33m[\u001b[0m\u001b[1;33m-\u001b[0m\u001b[1;36m7\u001b[0m\u001b[1;33m]\u001b[0m\u001b[1;33m\u001b[0m\u001b[0m\n\u001b[0m\u001b[0;32m      3\u001b[0m \u001b[1;32mprint\u001b[0m \u001b[0ms\u001b[0m\u001b[1;33m[\u001b[0m\u001b[1;36m100\u001b[0m\u001b[1;33m]\u001b[0m\u001b[1;33m\u001b[0m\u001b[0m\n",
        "\u001b[1;31mIndexError\u001b[0m: string index out of range"
       ]
      }
     ],
     "prompt_number": 36
    },
    {
     "cell_type": "markdown",
     "metadata": {},
     "source": [
      "\ub450 \ubb38\uc7a5 \ub2e4 \uc5d0\ub7ec\uac00 \ubc1c\uc0dd\ud55c\ub2e4. \uc778\ub371\uc2a4\uc5d0 \uc74c\uc218\uac00 \ub4e4\uc5b4\uac00\ub294 \uac83\uc740 \uac00\ub2a5\ud55c \uc77c\uc774\uc9c0\ub9cc, \uadf8\uac83\uc774 \uc804\uccb4 \uc778\ub371\uc2a4\uc758 \uc218\ub97c \ub118\uc5b4\uac00\uac8c \ub418\uba74 \uc591\uc218\uc758 \uc778\ub371\uc2a4\uc640 \ub9c8\ucc2c\uac00\uc9c0\ub85c \uc624\ub958\uac00 \uc0dd\uae34\ub2e4. \uc591\uc218\uc778 \uc778\ub371\uc2a4\uc758 \uacbd\uc6b0\uc5d0\ub3c4 \ub9c8\uc9c0\ub9c9 \uc778\ub371\uc2a4\uc778 5\ub97c \ub118\uc5b4\uac00 s[6]\ubd80\ud130\ub294 \uc624\ub958\uac00 \ubc1c\uc0dd\ud55c\ub2e4. \uac19\uc740 \uc758\ubbf8\uc5d0\uc11c \uc74c\uc218 \uc778\ub371\uc2a4\ub3c4 s[-6]\ub97c \ub118\uc5b4\uac00\ub294 -7 \ubd80\ud130\ub294 \uc624\ub958\uac00 \ubc1c\uc0dd\ud55c\ub2e4. "
     ]
    },
    {
     "cell_type": "heading",
     "level": 6,
     "metadata": {},
     "source": [
      " "
     ]
    },
    {
     "cell_type": "markdown",
     "metadata": {},
     "source": [
      "- <b>s[-100, 100]\uc740 \uac12\uc774 \ub098\uc624\ub294\uc9c0 \uc5d0\ub7ec\uac00 \ub098\uc624\ub294\uc9c0 \ud655\uc778\ud558\uace0 \uadf8 \uacb0\uacfc\uc5d0 \ub300\ud55c \uc774\uc720\ub97c \ub098\ub984\ub300\ub85c \uc124\uba85\ud574 \ubcf4\uc2dc\uc624.</b>"
     ]
    },
    {
     "cell_type": "code",
     "collapsed": false,
     "input": [
      "s = \"python\"\n",
      "print s[-100, 100]"
     ],
     "language": "python",
     "metadata": {},
     "outputs": [
      {
       "ename": "TypeError",
       "evalue": "string indices must be integers, not tuple",
       "output_type": "pyerr",
       "traceback": [
        "\u001b[1;31m---------------------------------------------------------------------------\u001b[0m\n\u001b[1;31mTypeError\u001b[0m                                 Traceback (most recent call last)",
        "\u001b[1;32m<ipython-input-37-4cf6f1aabd2d>\u001b[0m in \u001b[0;36m<module>\u001b[1;34m()\u001b[0m\n\u001b[0;32m      1\u001b[0m \u001b[0ms\u001b[0m \u001b[1;33m=\u001b[0m \u001b[1;34m\"python\"\u001b[0m\u001b[1;33m\u001b[0m\u001b[0m\n\u001b[1;32m----> 2\u001b[1;33m \u001b[1;32mprint\u001b[0m \u001b[0ms\u001b[0m\u001b[1;33m[\u001b[0m\u001b[1;36m0\u001b[0m\u001b[1;33m,\u001b[0m \u001b[1;36m0\u001b[0m\u001b[1;33m]\u001b[0m\u001b[1;33m\u001b[0m\u001b[0m\n\u001b[0m",
        "\u001b[1;31mTypeError\u001b[0m: string indices must be integers, not tuple"
       ]
      }
     ],
     "prompt_number": 37
    },
    {
     "cell_type": "markdown",
     "metadata": {},
     "source": [
      "\uc778\ub371\uc2a4\ub294 \ud558\ub098\uc758 \uc815\uc218\ub9cc\uc744 \ucde8\uae09\ud55c\ub2e4. \uadf8 \uc218\uac00 \uc5b4\ub5bb\ub4e0 \ub450 \uac1c\uc758 \uc815\uc218\uc778 \uc778\ub371\uc2a4\ub294 \uc874\uc7ac\ud558\uc9c0 \uc54a\ub294\ub2e4. \ub530\ub77c\uc11c \uc624\ub958\uac00 \ubc1c\uc0dd\ud55c\ub2e4. "
     ]
    },
    {
     "cell_type": "heading",
     "level": 6,
     "metadata": {},
     "source": [
      " "
     ]
    },
    {
     "cell_type": "markdown",
     "metadata": {},
     "source": [
      "- <b>s[1:-1]\uc758 \uacb0\uacfc\ub97c \ud655\uc778\ud558\uace0 \uadf8 \uacb0\uacfc\uc5d0 \ub300\ud55c \uc774\uc720\ub97c \uc815\ud655\ud558\uac8c \uc124\uba85\ud558\uc2dc\uc624.</b>"
     ]
    },
    {
     "cell_type": "code",
     "collapsed": false,
     "input": [
      "s = \"python\"\n",
      "print s[1:-1]"
     ],
     "language": "python",
     "metadata": {},
     "outputs": [
      {
       "output_type": "stream",
       "stream": "stdout",
       "text": [
        "ytho\n"
       ]
      }
     ],
     "prompt_number": 13
    },
    {
     "cell_type": "markdown",
     "metadata": {},
     "source": [
      "\ubb38\uc790\uc5f4\uc740 \ud2b9\uc815 \uad6c\uac04\uc744 slicing\ud558\ub294 \uac83\uc774 \uac00\ub2a5\ud558\ub2e4. \uc608\uc81c\uc5d0\uc11c\ub294 \ubb38\uc790\uc5f4 s\uc758 1\ubc88\uc9f8 \ub2e8\uc5b4\ubd80\ud130 -1(\ub05d\uc5d0\uc11c \uccab\ubc88\uc9f8)\ubc88\uc9f8 \ub2e8\uc5b4\uc758 \uc804\uae4c\uc9c0\ub97c slicing \ud55c\ub2e4. \ub530\ub77c\uc11c 'y'\ubd80\ud130 'o'\uae4c\uc9c0\ub97c \ucd9c\ub825\ud55c\ub2e4. "
     ]
    },
    {
     "cell_type": "heading",
     "level": 6,
     "metadata": {},
     "source": [
      " "
     ]
    },
    {
     "cell_type": "markdown",
     "metadata": {},
     "source": [
      "- <b>s[3:-3]\uc758 \uacb0\uacfc\ub97c \ud655\uc778\ud558\uace0 \uadf8 \uacb0\uacfc\uc5d0 \ub300\ud55c \uc774\uc720\ub97c \uc815\ud655\ud558\uac8c \uc124\uba85\ud558\uc2dc\uc624.</b>"
     ]
    },
    {
     "cell_type": "code",
     "collapsed": false,
     "input": [
      "s = \"python\"\n",
      "print s[3:-3]"
     ],
     "language": "python",
     "metadata": {},
     "outputs": [
      {
       "output_type": "stream",
       "stream": "stdout",
       "text": [
        "\n"
       ]
      }
     ],
     "prompt_number": 38
    },
    {
     "cell_type": "markdown",
     "metadata": {},
     "source": [
      "\uc704\uc758 \ubb38\uc81c\uc640 \uac19\ub2e4. \ud2b9\uc815 \uad6c\uac04\uc744 \ub098\ud0c0\ub0b4\ub294 \uc778\ub371\uc2a4 \uac12\ub3c4 \uc804\uccb4 \uc778\ub371\uc2a4\uc758 \uc218\ub97c \ub118\uc9c0 \uc54a\uae30 \ub54c\ubb38\uc5d0 \uc624\ub958\uac00 \ubc1c\uc0dd\ud558\uc9c0 \uc54a\ub294\ub2e4. \ub2e4\ub9cc 3\ubc88\uc9f8 \ubb38\uc790 'h'\ubd80\ud130 -3\ubc88\uc9f8 \ubb38\uc790 'h'\uc758 \uc804\uae4c\uc9c0\ub97c \ucd9c\ub825\ud558\ub294 \uac83\uc774\uae30 \ub54c\ubb38\uc5d0 \uc544\ubb34\uac83\ub3c4 \ucd9c\ub825\ub418\uc9c0 \uc54a\uace0 \uacf5\ubc31\ub9cc\uc774 \ucd9c\ub825\ub41c\ub2e4. "
     ]
    },
    {
     "cell_type": "heading",
     "level": 1,
     "metadata": {},
     "source": [
      " "
     ]
    },
    {
     "cell_type": "markdown",
     "metadata": {},
     "source": [
      "<b>5) for\ubb38\uc744 \ud65c\uc6a9\ud558\uc5ec 1\ubd80\ud130 100\uc0ac\uc774\uc758 \ud640\uc218\ub97c \ucd9c\ub825\ud558\uc2dc\uc624.</b>"
     ]
    },
    {
     "cell_type": "code",
     "collapsed": false,
     "input": [
      "for x in range(100):\n",
      "    if x % 2 == 1: print x,"
     ],
     "language": "python",
     "metadata": {},
     "outputs": [
      {
       "output_type": "stream",
       "stream": "stdout",
       "text": [
        "1 3 5 7 9 11 13 15 17 19 21 23 25 27 29 31 33 35 37 39 41 43 45 47 49 51 53 55 57 59 61 63 65 67 69 71 73 75 77 79 81 83 85 87 89 91 93 95 97 99\n"
       ]
      }
     ],
     "prompt_number": 10
    },
    {
     "cell_type": "markdown",
     "metadata": {},
     "source": [
      "100\uae4c\uc9c0\uc758 \uc815\uc218 \uc911\uc5d0\uc11c 2\ub85c \ub098\ub204\uc5c8\uc744 \ub54c \ub098\uba38\uc9c0\uac00 1\uc774 \ub418\ub294 \ubaa8\ub4e0 \uc218\ub97c \uc5d4\ud130\uc5c6\uc774(,) \ucd9c\ub825\ud55c\ub2e4."
     ]
    },
    {
     "cell_type": "heading",
     "level": 1,
     "metadata": {},
     "source": [
      " "
     ]
    },
    {
     "cell_type": "markdown",
     "metadata": {},
     "source": [
      "<b>6) while\ubb38\uc744 \ud65c\uc6a9\ud558\uc5ec 1\ubd80\ud130 100\uc0ac\uc774\uc758 \uc9dd\uc218\uc758 \ud569\uc744 \uacc4\uc0b0\ud558\uc5ec \ucd9c\ub825\ud558\uc2dc\uc624.</b>"
     ]
    },
    {
     "cell_type": "code",
     "collapsed": false,
     "input": [
      "sum = 0\n",
      "x = 1\n",
      "while x <= 100:\n",
      "    if x % 2 == 0: sum += x\n",
      "    x += 1\n",
      "print sum"
     ],
     "language": "python",
     "metadata": {},
     "outputs": [
      {
       "output_type": "stream",
       "stream": "stdout",
       "text": [
        "2550\n"
       ]
      }
     ],
     "prompt_number": 11
    },
    {
     "cell_type": "markdown",
     "metadata": {},
     "source": [
      "1\ubd80\ud130 100\uae4c\uc9c0\uc758 \uc815\uc218 \uc911\uc5d0\uc11c, 2\ub85c \ub098\ub204\uc5c8\uc744 \ub54c \ub098\uba38\uc9c0\uac00 0\uc774 \ub418\ub294 \ubaa8\ub4e0 \uc218\ub97c \ud569\ud558\uc5ec \ucd9c\ub825\ud55c\ub2e4"
     ]
    },
    {
     "cell_type": "heading",
     "level": 1,
     "metadata": {},
     "source": [
      " "
     ]
    },
    {
     "cell_type": "markdown",
     "metadata": {},
     "source": [
      "<b>7) \uc678\ubd80\ub85c \ubd80\ud130 \uc815\uc218\ub97c \uc785\ub825\ubc1b\uc544\uc11c 1\ubd80\ud130 \uadf8 \uc0ac\uc774\uc5d0 \uc874\uc7ac\ud558\ub294 \uc18c\uc218 (Prime number)\ub97c \ucd9c\ub825\ud558\ub294 \ud30c\uc774\uc36c \ud504\ub85c\uadf8\ub7a8\uc744 \uc791\uc131\ud558\uc2dc\uc624.</b>"
     ]
    },
    {
     "cell_type": "code",
     "collapsed": false,
     "input": [
      "n = input('Input int: ')\n",
      "for i in range(2,n+1):\n",
      "    for j in range(2,i+1):\n",
      "        if i % j == 0:\n",
      "            if i != j: break\n",
      "            else: print i,"
     ],
     "language": "python",
     "metadata": {},
     "outputs": [
      {
       "name": "stdout",
       "output_type": "stream",
       "stream": "stdout",
       "text": [
        "Input int: 21\n"
       ]
      },
      {
       "output_type": "stream",
       "stream": "stdout",
       "text": [
        "2 3 5 7 11 13 17 19\n"
       ]
      }
     ],
     "prompt_number": 4
    },
    {
     "cell_type": "markdown",
     "metadata": {},
     "source": [
      "\uc815\uc218\ub97c \uc785\ub825\ubc1b\uc544 n\uc5d0 \uc800\uc7a5\ud55c\ub2e4. 2\ubd80\ud130(\uc18c\uc218\uc5d0\uc11c 1\uc740 \uc81c\uc678\ud558\ubbc0\ub85c) \uc785\ub825\ubc1b\uc740 n\uae4c\uc9c0\uc758 \ubaa8\ub4e0 \uc218\ub97c \ub450\ubc88\uc9f8 for\ubb38\uc73c\ub85c \uc18c\uc218\uc778\uc9c0 \uac80\uc0ac\ud55c\ub2e4. i(2~n\uae4c\uc9c0\uc758 \uc218)\ub97c j(2~i\uae4c\uc9c0\uc758 \uc218)\ub85c \ub098\ub204\uc5c8\uc744 \ub54c \ub098\uba38\uc9c0\uac00 0\uc774\ub77c\uba74, i\uac00 \uc18c\uc218\uc778\uc9c0 \ud655\uc778\ud558\uae30 \uc704\ud574 \ud558\ub098 \ub354 \uac80\uc0ac\ud55c\ub2e4. i\uc640 j\uac00 \uac19\uc9c0\uc54a\uc73c\uba74(\ub2e4\ub978 \uc218\ub85c \ub098\ub204\uc5b4\uc84c\uc73c\ub2c8 \uc18c\uc218\uac00 \uc544\ub2c8\ubbc0\ub85c) \ube0c\ub808\uc774\ud06c, \uac19\uc73c\uba74 \uac19\uc740 \uc218 \uc77c\ub54c \ucc98\uc74c\uc73c\ub85c \ub098\ub204\uc5b4\uc84c\ub2e8 \ub73b\uc774\ubbc0\ub85c \uc18c\uc218\ub77c\ub294 \ub73b\uc774 \ub41c\ub2e4. \uc989 \uadf8 i(\uc18c\uc218)\ub97c \ucd9c\ub825\ud55c\ub2e4. "
     ]
    },
    {
     "cell_type": "heading",
     "level": 1,
     "metadata": {},
     "source": [
      " "
     ]
    },
    {
     "cell_type": "heading",
     "level": 1,
     "metadata": {},
     "source": [
      " "
     ]
    },
    {
     "cell_type": "markdown",
     "metadata": {},
     "source": [
      "<b>\uc18c\uac10</b>"
     ]
    },
    {
     "cell_type": "markdown",
     "metadata": {},
     "source": [
      "\uc790\ubc14\uc640 C\ub97c \uba3c\uc800 \ub2e4 \ubc30\uc6e0\uae30\uc5d0 \ud30c\uc774\uc36c\uc740 \uc5b4\ub835\uc9c0 \uc54a\uc744 \uac83\uc774\ub77c\uace0 \uc0dd\uac01\ud588\ub294\ub370 \uc5b4\ub835\ub2e4\uae30\ubcf4\ub2e4\ub294 \uc0dd\uac01\ubcf4\ub2e4 \uc0dd\uc18c\ud558\uc600\ub2e4. \ub300\uac1c \ucf54\ub4dc\ub97c \uc368\ub0b4\ub824\uc654\ub2e4\uac00 \ud55c \ubc88\uc5d0 \uc2e4\ud589\ud558\ub294 \uac83\uc774 \uc775\uc219\ud558\uc600\ub294\ub370 \ud30c\uc774\uc36c\uacfc \uac19\uc740 REPL\uc774 \ud3b8\ud558\uba74\uc11c\ub3c4 \uc5b4\uc0c9\ud588\ub2e4. \uba85\ub839\uc5b4 \uc790\uccb4\ub294 \uac70\uc758 \uc544\ub294 \ub0b4\uc6a9\uc774\ub77c \ud560 \uc218 \uc788\uae30 \ub54c\ubb38\uc5d0 \uc801\uc751\ud558\ub294 \uac83\uc774 \uc5b4\ub835\uc9c0\ub294 \uc54a\uc558\ub2e4. \uc5b4\ub824\uc6b4 \ubd80\ubd84 \ud639\uc740 \ud5f7\uac08\ub9ac\ub294 \ubd80\ubd84\uc774 \uc788\ub2e4\uba74 range(,)\ub098 [:] \uac19\uc774 \uad6c\uac04\uc744 \ub098\ub204\ub294 \ubd80\ubd84\uc774 \uc815\ud655\ud558\uac8c \uc5b4\ub514\ubd80\ud130 \uc5b4\ub514\uae4c\uc9c0\uc778\uc9c0 \uc885\uc885 \ud5f7\uac08\ub838\ub358 \uac83 \uac19\ub2e4. "
     ]
    }
   ],
   "metadata": {}
  }
 ]
}