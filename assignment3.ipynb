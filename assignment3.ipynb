{
 "metadata": {
  "name": "",
  "signature": "sha256:40f821a5f608359e54169ff05118f2d12e9db34ef26db46b691bccbb490a8203"
 },
 "nbformat": 3,
 "nbformat_minor": 0,
 "worksheets": [
  {
   "cells": [
    {
     "cell_type": "heading",
     "level": 1,
     "metadata": {},
     "source": [
      "\uc2a4\ud06c\ub9bd\ud2b8 \ud504\ub85c\uadf8\ub798\ubc0d"
     ]
    },
    {
     "cell_type": "heading",
     "level": 2,
     "metadata": {},
     "source": [
      "Assignment 3"
     ]
    },
    {
     "cell_type": "heading",
     "level": 3,
     "metadata": {},
     "source": [
      "2011136080 \uc724\uc9c4\uc625"
     ]
    },
    {
     "cell_type": "heading",
     "level": 3,
     "metadata": {},
     "source": [
      "\uc81c\ucd9c\uc77c : 2014.10.19"
     ]
    },
    {
     "cell_type": "heading",
     "level": 1,
     "metadata": {},
     "source": [
      " "
     ]
    },
    {
     "cell_type": "heading",
     "level": 4,
     "metadata": {},
     "source": [
      " "
     ]
    },
    {
     "cell_type": "markdown",
     "metadata": {},
     "source": [
      "<b>1) L=[1, 2, 3, 4, 5]\uc77c \ub54c \ub2e4\uc74c \uac01 \ubb38\uc7a5\uc744 \uc218\ud589\ud55c \ud6c4\uc758 \uacb0\uacfc\ub97c \ubcf4\uace0 \ub0a9\ub4dd\ud560 \ub9cc\ud55c \uc774\uc720\ub97c \uc124\uba85\ud558\uc2dc\uc624.</b>"
     ]
    },
    {
     "cell_type": "code",
     "collapsed": false,
     "input": [
      "L = [1,2,3,4,5]\n",
      "\n",
      "L[1:3] = [100]\n",
      "print L"
     ],
     "language": "python",
     "metadata": {},
     "outputs": [
      {
       "output_type": "stream",
       "stream": "stdout",
       "text": [
        "[1, 100, 4, 5]\n"
       ]
      }
     ],
     "prompt_number": 4
    },
    {
     "cell_type": "markdown",
     "metadata": {},
     "source": [
      "\ub9ac\uc2a4\ud2b8\ub294 \uc11c\ub85c \ub2e4\ub978 \ud06c\uae30\uc5d0 \ub300\ud55c \uc2ac\ub77c\uc774\uc2a4 \uce58\ud658\uc774 \uac00\ub2a5\ud558\ub2e4. \uc989 L[1:3] => L[1], L[2] \uc6d0\uc18c\uac00 [100]\uc73c\ub85c \uce58\ud658\ub418\uc5c8\ub2e4."
     ]
    },
    {
     "cell_type": "heading",
     "level": 6,
     "metadata": {},
     "source": [
      " "
     ]
    },
    {
     "cell_type": "code",
     "collapsed": false,
     "input": [
      "L = [1,2,3,4,5]\n",
      "\n",
      "L[1:3] = [(100)]\n",
      "print L"
     ],
     "language": "python",
     "metadata": {},
     "outputs": [
      {
       "output_type": "stream",
       "stream": "stdout",
       "text": [
        "[1, 100, 4, 5]\n"
       ]
      }
     ],
     "prompt_number": 5
    },
    {
     "cell_type": "markdown",
     "metadata": {},
     "source": [
      "\uc704\uc640 \uac19\ub2e4. \uad04\ud638\ub294 ','\uc774 \uc5c6\uc73c\ubbc0\ub85c \ud29c\ud50c\uc774 \uc544\ub2c8\ub77c \uadf8\ub0e5 \uad04\ud638\ub85c \uc778\uc815\ub41c\ub2e4.(\uace0 \uc0dd\uac01\ud55c\ub2e4)"
     ]
    },
    {
     "cell_type": "heading",
     "level": 6,
     "metadata": {},
     "source": [
      " "
     ]
    },
    {
     "cell_type": "code",
     "collapsed": false,
     "input": [
      "L = [1,2,3,4,5]\n",
      "\n",
      "L[1:3] = 100\n",
      "print L"
     ],
     "language": "python",
     "metadata": {},
     "outputs": [
      {
       "ename": "TypeError",
       "evalue": "can only assign an iterable",
       "output_type": "pyerr",
       "traceback": [
        "\u001b[1;31m---------------------------------------------------------------------------\u001b[0m\n\u001b[1;31mTypeError\u001b[0m                                 Traceback (most recent call last)",
        "\u001b[1;32m<ipython-input-4-ec441a64d6a1>\u001b[0m in \u001b[0;36m<module>\u001b[1;34m()\u001b[0m\n\u001b[0;32m      1\u001b[0m \u001b[0mL\u001b[0m \u001b[1;33m=\u001b[0m \u001b[1;33m[\u001b[0m\u001b[1;36m1\u001b[0m\u001b[1;33m,\u001b[0m\u001b[1;36m2\u001b[0m\u001b[1;33m,\u001b[0m\u001b[1;36m3\u001b[0m\u001b[1;33m,\u001b[0m\u001b[1;36m4\u001b[0m\u001b[1;33m,\u001b[0m\u001b[1;36m5\u001b[0m\u001b[1;33m]\u001b[0m\u001b[1;33m\u001b[0m\u001b[0m\n\u001b[0;32m      2\u001b[0m \u001b[1;33m\u001b[0m\u001b[0m\n\u001b[1;32m----> 3\u001b[1;33m \u001b[0mL\u001b[0m\u001b[1;33m[\u001b[0m\u001b[1;36m1\u001b[0m\u001b[1;33m:\u001b[0m\u001b[1;36m3\u001b[0m\u001b[1;33m]\u001b[0m \u001b[1;33m=\u001b[0m \u001b[1;36m100\u001b[0m\u001b[1;33m\u001b[0m\u001b[0m\n\u001b[0m\u001b[0;32m      4\u001b[0m \u001b[1;32mprint\u001b[0m \u001b[0mL\u001b[0m\u001b[1;33m\u001b[0m\u001b[0m\n",
        "\u001b[1;31mTypeError\u001b[0m: can only assign an iterable"
       ]
      }
     ],
     "prompt_number": 4
    },
    {
     "cell_type": "markdown",
     "metadata": {},
     "source": [
      "\ub9ac\uc2a4\ud2b8\uc758 \uc2ac\ub77c\uc774\uc2a4 \uce58\ud658\uc740 \uc815\uc218\ub294 \ubd88\uac00\ub2a5\ud558\ub2e4. "
     ]
    },
    {
     "cell_type": "heading",
     "level": 6,
     "metadata": {},
     "source": [
      " "
     ]
    },
    {
     "cell_type": "code",
     "collapsed": false,
     "input": [
      "L = [1,2,3,4,5]\n",
      "\n",
      "L[1:3] = (100)\n",
      "print L"
     ],
     "language": "python",
     "metadata": {},
     "outputs": [
      {
       "ename": "TypeError",
       "evalue": "can only assign an iterable",
       "output_type": "pyerr",
       "traceback": [
        "\u001b[1;31m---------------------------------------------------------------------------\u001b[0m\n\u001b[1;31mTypeError\u001b[0m                                 Traceback (most recent call last)",
        "\u001b[1;32m<ipython-input-6-080e571ee880>\u001b[0m in \u001b[0;36m<module>\u001b[1;34m()\u001b[0m\n\u001b[0;32m      1\u001b[0m \u001b[0mL\u001b[0m \u001b[1;33m=\u001b[0m \u001b[1;33m[\u001b[0m\u001b[1;36m1\u001b[0m\u001b[1;33m,\u001b[0m\u001b[1;36m2\u001b[0m\u001b[1;33m,\u001b[0m\u001b[1;36m3\u001b[0m\u001b[1;33m,\u001b[0m\u001b[1;36m4\u001b[0m\u001b[1;33m,\u001b[0m\u001b[1;36m5\u001b[0m\u001b[1;33m]\u001b[0m\u001b[1;33m\u001b[0m\u001b[0m\n\u001b[0;32m      2\u001b[0m \u001b[1;33m\u001b[0m\u001b[0m\n\u001b[1;32m----> 3\u001b[1;33m \u001b[0mL\u001b[0m\u001b[1;33m[\u001b[0m\u001b[1;36m1\u001b[0m\u001b[1;33m:\u001b[0m\u001b[1;36m3\u001b[0m\u001b[1;33m]\u001b[0m \u001b[1;33m=\u001b[0m \u001b[1;33m(\u001b[0m\u001b[1;36m100\u001b[0m\u001b[1;33m)\u001b[0m\u001b[1;33m\u001b[0m\u001b[0m\n\u001b[0m\u001b[0;32m      4\u001b[0m \u001b[1;32mprint\u001b[0m \u001b[0mL\u001b[0m\u001b[1;33m\u001b[0m\u001b[0m\n",
        "\u001b[1;31mTypeError\u001b[0m: can only assign an iterable"
       ]
      }
     ],
     "prompt_number": 6
    },
    {
     "cell_type": "markdown",
     "metadata": {},
     "source": [
      "\uc704\uc640 \uac19\ub2e4. \ud29c\ud50c\uc774 \uc544\ub2cc \uc815\uc218\ub85c \uc778\uc815\ud558\uc5ec \ud560\ub2f9\ud560 \uc218 \uc5c6\ub2e4. "
     ]
    },
    {
     "cell_type": "heading",
     "level": 6,
     "metadata": {},
     "source": [
      " "
     ]
    },
    {
     "cell_type": "code",
     "collapsed": false,
     "input": [
      "L = [1,2,3,4,5]\n",
      "\n",
      "L[1:3] = (100, 101, 102)\n",
      "print L"
     ],
     "language": "python",
     "metadata": {},
     "outputs": [
      {
       "output_type": "stream",
       "stream": "stdout",
       "text": [
        "[1, 100, 101, 102, 4, 5]\n"
       ]
      }
     ],
     "prompt_number": 8
    },
    {
     "cell_type": "markdown",
     "metadata": {},
     "source": [
      "\uc2ac\ub77c\uc774\uc2a4 \uce58\ud658\uc740 \ud06c\uae30\uac00 \ub2ec\ub77c\ub3c4 \uac00\ub2a5\ud558\ub2e4. "
     ]
    },
    {
     "cell_type": "heading",
     "level": 6,
     "metadata": {},
     "source": [
      " "
     ]
    },
    {
     "cell_type": "code",
     "collapsed": false,
     "input": [
      "L = [1,2,3,4,5]\n",
      "\n",
      "L[1:3] = [100, 101, 102]\n",
      "print L"
     ],
     "language": "python",
     "metadata": {},
     "outputs": [
      {
       "output_type": "stream",
       "stream": "stdout",
       "text": [
        "[1, 100, 101, 102, 4, 5]\n"
       ]
      }
     ],
     "prompt_number": 9
    },
    {
     "cell_type": "markdown",
     "metadata": {},
     "source": [
      "-"
     ]
    },
    {
     "cell_type": "heading",
     "level": 6,
     "metadata": {},
     "source": [
      " "
     ]
    },
    {
     "cell_type": "code",
     "collapsed": false,
     "input": [
      "L = [1,2,3,4,5]\n",
      "\n",
      "L[1:3] = [(100, 101, 102)]\n",
      "print L"
     ],
     "language": "python",
     "metadata": {},
     "outputs": [
      {
       "output_type": "stream",
       "stream": "stdout",
       "text": [
        "[1, (100, 101, 102), 4, 5]\n"
       ]
      }
     ],
     "prompt_number": 10
    },
    {
     "cell_type": "markdown",
     "metadata": {},
     "source": [
      "-"
     ]
    },
    {
     "cell_type": "heading",
     "level": 6,
     "metadata": {},
     "source": [
      " "
     ]
    },
    {
     "cell_type": "code",
     "collapsed": false,
     "input": [
      "L = [1,2,3,4,5]\n",
      "\n",
      "L[1:3] = [[100, 101, 102]]\n",
      "print L"
     ],
     "language": "python",
     "metadata": {},
     "outputs": [
      {
       "output_type": "stream",
       "stream": "stdout",
       "text": [
        "[1, [100, 101, 102], 4, 5]\n"
       ]
      }
     ],
     "prompt_number": 11
    },
    {
     "cell_type": "markdown",
     "metadata": {},
     "source": [
      "-"
     ]
    },
    {
     "cell_type": "heading",
     "level": 1,
     "metadata": {},
     "source": [
      " "
     ]
    },
    {
     "cell_type": "markdown",
     "metadata": {},
     "source": [
      "<b>2) \ubb38\uc790\uc5f4 S = 'Hello World and Python'\uc5d0 \ub300\ud574 \ub2e4\uc74c \uc694\uad6c\uc0ac\ud56d\uc5d0 \ub300\ud55c Python \ucf54\ub4dc\ub97c \uc81c\uc2dc\ud558\uc2dc\uc624.</b>"
     ]
    },
    {
     "cell_type": "markdown",
     "metadata": {},
     "source": [
      "- <b>\ub2e8\uc5b4\uc758 \uc21c\uc11c\uac00 \uc5ed\uc21c\uc73c\ub85c \ub418\uc5b4\uc9c4 \ubb38\uc790\uc5f4 ('Python and World Hello')\uc744 \ub9cc\ub4e4\uace0<b>"
     ]
    },
    {
     "cell_type": "code",
     "collapsed": false,
     "input": [
      "S = 'Hello World and Python'\n",
      "S = S[16:] +' ' + S[12:15] + ' ' + S[6:12] + S[:5]\n",
      "print S"
     ],
     "language": "python",
     "metadata": {},
     "outputs": [
      {
       "output_type": "stream",
       "stream": "stdout",
       "text": [
        "Python and World Hello\n"
       ]
      }
     ],
     "prompt_number": 18
    },
    {
     "cell_type": "heading",
     "level": 6,
     "metadata": {},
     "source": [
      " "
     ]
    },
    {
     "cell_type": "markdown",
     "metadata": {},
     "source": [
      "- <b>\uc704\uc758 \uacb0\uacfc \ubb38\uc790\uc5f4\uc5d0 \ub300\ud574 \uba54\uc18c\ub4dc split\uacfc join\uc744 \uc774\uc6a9\ud558\uc5ec \uacf5\ubc31\uc744 \ubaa8\ub450 \uc5c6\uc5d4 \ubb38\uc790\uc5f4 'PythonandWorldHello'\uc744 \ub9cc\ub4dc\uc2dc\uc624.</b>"
     ]
    },
    {
     "cell_type": "code",
     "collapsed": false,
     "input": [
      "S = 'Python and World Hello'      #\uc704\uc758 \ubb38\uc81c\uc5d0\uc11c \uc774\uc5b4\uc11c\n",
      "S = S.split()\n",
      "S = ''.join(S)\n",
      "print S"
     ],
     "language": "python",
     "metadata": {},
     "outputs": [
      {
       "output_type": "stream",
       "stream": "stdout",
       "text": [
        "PythonandWorldHello\n"
       ]
      }
     ],
     "prompt_number": 20
    },
    {
     "cell_type": "heading",
     "level": 1,
     "metadata": {},
     "source": [
      "  "
     ]
    },
    {
     "cell_type": "markdown",
     "metadata": {},
     "source": [
      "<b>2) \ub2e4\uc74c \ucf54\ub4dc\ub97c \ubcf4\uace0 \ubb3c\uc74c\uc5d0 \ub2f5\ud558\uc2dc\uc624."
     ]
    },
    {
     "cell_type": "code",
     "collapsed": false,
     "input": [
      "a = [1, 2, 3]\n",
      "b = a * 3\n",
      "c = [a] * 3\n",
      "print b\n",
      "print c"
     ],
     "language": "python",
     "metadata": {},
     "outputs": []
    },
    {
     "cell_type": "markdown",
     "metadata": {},
     "source": [
      "- <b>\uc704 \ucf54\ub4dc\ub97c \uc218\ud589\ud55c \uc774\ud6c4 \ub2e4\uc74c \ucf54\ub4dc\ub97c \uc218\ud589\ud55c \ud6c4 b\uc640 c\uc758 \ub0b4\uc6a9\uc744 \ud655\uc778\ud558\uc2dc\uc624.<br>\n",
      "    a[0] = 0</b>"
     ]
    },
    {
     "cell_type": "code",
     "collapsed": false,
     "input": [
      "a = [1, 2, 3]\n",
      "b = a * 3\n",
      "c = [a] * 3\n",
      "print b\n",
      "print c\n",
      "print\n",
      "\n",
      "a[0] = 0\n",
      "print b\n",
      "print c"
     ],
     "language": "python",
     "metadata": {},
     "outputs": [
      {
       "output_type": "stream",
       "stream": "stdout",
       "text": [
        "[1, 2, 3, 1, 2, 3, 1, 2, 3]\n",
        "[[1, 2, 3], [1, 2, 3], [1, 2, 3]]\n",
        "\n",
        "[1, 2, 3, 1, 2, 3, 1, 2, 3]\n",
        "[[0, 2, 3], [0, 2, 3], [0, 2, 3]]\n"
       ]
      }
     ],
     "prompt_number": 22
    },
    {
     "cell_type": "heading",
     "level": 6,
     "metadata": {},
     "source": [
      " "
     ]
    },
    {
     "cell_type": "markdown",
     "metadata": {},
     "source": [
      "- <b>b\uc640 c \uac1d\uccb4\uc758 \ucc28\uc774\ub294 \ubb34\uc5c7\uc778\uac00?"
     ]
    },
    {
     "cell_type": "markdown",
     "metadata": {},
     "source": [
      "b\ub294 \ub9ac\uc2a4\ud2b8 a\uc758 \uc6d0\uc18c\uc778 [1, 2, 3]\uc5d0 3\uc744 \uacf1\ud558\uc5ec \uc138 \ubc88 \ubc18\ubcf5\ub41c 1, 2, 3\uc744 \uc6d0\uc18c\ub85c \uac16\ub294 \ub9ac\uc2a4\ud2b8\ub97c \uac00\ub974\ud0a4\ub294 \uac1d\uccb4\uc774\ub2e4. \uc0c8\ub85c\uc774 \ub9cc\ub4e4\uc5b4\uc9c4 \uac1d\uccb4\ub97c \uac00\ub974\ud0a4\uace0 \uc788\uc73c\ubbc0\ub85c, \ub9ac\uc2a4\ud2b8 a\uac00 \ub2e4\ub978 \uc6d0\uc18c\ub97c \uac16\ub294\ub2e4\uace0 \ud574\uc11c \ubcc0\ub3d9\ub418\ub294 \uac83\uc740 \uc5c6\ub2e4.\n",
      "c\ub294 \ub9ac\uc2a4\ud2b8 a 3\uac1c\ub97c \uc6d0\uc18c\ub85c \uac16\ub294 \ub9ac\uc2a4\ud2b8\ub97c \uac00\ub974\ud0a4\ub294 \uac1d\uccb4\uc774\ub2e4. \ub9ac\uc2a4\ud2b8 a\uc758 \ub808\ud37c\ub7f0\uc2a4\ub97c \uc6d0\uc18c\ub85c \uac16\uae30\ub54c\ubb38\uc5d0 \ub9ac\uc2a4\ud2b8 a\uac00 \ub2e4\ub978 \uc6d0\uc18c\ub97c \uac16\uac8c\ub418\uba74 c \ub0b4\ubd80\uc758 \ub9ac\uc2a4\ud2b8\uc5d0\ub3c4 \ubcc0\ub3d9\uc774 \uc0dd\uae34\ub2e4. "
     ]
    },
    {
     "cell_type": "heading",
     "level": 1,
     "metadata": {},
     "source": [
      " "
     ]
    },
    {
     "cell_type": "markdown",
     "metadata": {},
     "source": [
      "<b>3) \ub2e4\uc74c \ubb38\uc790\uc5f4\uc744 ':'\uc744 \uae30\uc900\uc73c\ub85c \ubd84\ub9ac\ud558\uc5ec \ub9ac\uc2a4\ud2b8\ub85c \ub9cc\ub4e4\uace0 \uac01 \ubb38\uc790\uc5f4\uc758 \uc88c\uc6b0 \uacf5\ubc31\uc744 \uc81c\uac70\ud558\uc2dc\uc624 (\uc989, \ubb38\uc790\uc5f4 S\uc5d0\uc11c l\uc744 \ub9cc\ub4e4\uc5b4\ub77c)</b>"
     ]
    },
    {
     "cell_type": "code",
     "collapsed": false,
     "input": [
      "s = '  first star   :   second star   :    third star  '\n",
      "l = ['first star', 'second star', 'third star']"
     ],
     "language": "python",
     "metadata": {},
     "outputs": []
    },
    {
     "cell_type": "markdown",
     "metadata": {},
     "source": [
      "- <b>for ~ in \ubb38\uc744 \uc774\uc6a9\ud55c \ucf54\ub4dc\ub97c \uc791\uc131\ud558\uc2dc\uc624.</b>"
     ]
    },
    {
     "cell_type": "code",
     "collapsed": false,
     "input": [
      "s = '  first star   :   second star   :    third star  '\n",
      "s = s.split(':')\n",
      "for i in range(len(s)):\n",
      "    s[i] = s[i].strip()\n",
      "print s"
     ],
     "language": "python",
     "metadata": {},
     "outputs": [
      {
       "output_type": "stream",
       "stream": "stdout",
       "text": [
        "['first star', 'second star', 'third star']\n"
       ]
      }
     ],
     "prompt_number": 72
    },
    {
     "cell_type": "heading",
     "level": 6,
     "metadata": {},
     "source": [
      " "
     ]
    },
    {
     "cell_type": "markdown",
     "metadata": {},
     "source": [
      "- <b>\ub9ac\uc2a4\ud2b8 \ub0b4\ud3ec(list comprehension)\ub97c \uc774\uc6a9\ud55c \ucf54\ub4dc\ub97c \uc791\uc131\ud558\uc2dc\uc624.</b>"
     ]
    },
    {
     "cell_type": "code",
     "collapsed": false,
     "input": [
      "s = '  first star   :   second star   :    third star  '"
     ],
     "language": "python",
     "metadata": {},
     "outputs": []
    },
    {
     "cell_type": "heading",
     "level": 1,
     "metadata": {},
     "source": [
      " "
     ]
    },
    {
     "cell_type": "markdown",
     "metadata": {},
     "source": [
      "<b>4) \ub2e4\uc74c\uacfc \uac19\uc774 0\ubcf4\ub2e4 \ud070 \uc815\uc218 \ub9ac\uc2a4\ud2b8 \ubcc0\uc218 list\ub97c \uc778\uc790\ub85c \ubc1b\ub294 \ud568\uc218 addall(list)\uc640 addallodd(list)\ub97c for ~ in \ub9ac\ud130\ub110\uacfc \ub9ac\uc2a4\ud2b8 \ub0b4\ud3ec \ubc29\uc2dd\uc73c\ub85c \uac01\uac01 \uc81c\uc2dc\ud558\uc2dc\uc624.</b>"
     ]
    },
    {
     "cell_type": "markdown",
     "metadata": {},
     "source": [
      "- <b>addall(list) \ud568\uc218 (\ub9ac\uc2a4\ud2b8 \ub0b4\uc758 \ubaa8\ub4e0 \uc815\uc218\ub97c \ub354\ud558\ub294 \ud568\uc218\ub85c\uc11c \ud574\ub2f5\uc73c\ub85c\ub294 for ~ in \ub9ac\ud130\ub7f4\uacfc \ub9ac\uc2a4\ud2b8 \ub0b4\ud3ec \ubc29\uc2dd\uc73c\ub85c \uac01\uac01 \uc81c\uc2dc\ud558\uc2dc\uc624.)</b>\n",
      "    - addall([1]) 1\n",
      "    - addall([1, 2, 3, 4, 5, 6, 7, 8, 9]) 45"
     ]
    },
    {
     "cell_type": "markdown",
     "metadata": {},
     "source": [
      "- for ~ in \ub9ac\ud130\ub7f4"
     ]
    },
    {
     "cell_type": "code",
     "collapsed": false,
     "input": [
      "def addall(list):\n",
      "    sum = 0;\n",
      "    for i in range(len(list)):\n",
      "        sum += list[i]\n",
      "    return sum\n",
      "\n",
      "print addall([1])\n",
      "print addall([1,2,3,4,5,6,7,8,9,])"
     ],
     "language": "python",
     "metadata": {},
     "outputs": [
      {
       "output_type": "stream",
       "stream": "stdout",
       "text": [
        "1\n",
        "45\n"
       ]
      }
     ],
     "prompt_number": 9
    },
    {
     "cell_type": "markdown",
     "metadata": {},
     "source": [
      "- \ub9ac\uc2a4\ud2b8\ub0b4\ud3ec \ubc29\uc2dd"
     ]
    },
    {
     "cell_type": "code",
     "collapsed": false,
     "input": [],
     "language": "python",
     "metadata": {},
     "outputs": []
    },
    {
     "cell_type": "heading",
     "level": 6,
     "metadata": {},
     "source": [
      " "
     ]
    },
    {
     "cell_type": "markdown",
     "metadata": {},
     "source": [
      "- <b>addallodd(list) \ud568\uc218 (\ub9ac\uc2a4\ud2b8\ub0b4\uc758 \ubaa8\ub4e0 \ud640\uc218\ub97c \ub354\ud558\ub294 \ud568\uc218\ub85c\uc11c \ud574\ub2f5\uc73c\ub85c\ub294 for ~ in \ub9ac\ud130\ub7f4\uacfc \ub9ac\uc2a4\ud2b8 \ub0b4\ud3ec \ubc29\uc2dd\uc73c\ub85c \uac01\uac01 \uc81c\uc2dc\ud558\uc2dc\uc624.)</b>\n",
      "    - addallodd([1]) 1\n",
      "    - addallodd([1, 2, 3, 4, 5, 6, 7, 8, 9]) 25"
     ]
    },
    {
     "cell_type": "markdown",
     "metadata": {},
     "source": [
      "- for ~ in \ub9ac\ud130\ub7f4"
     ]
    },
    {
     "cell_type": "code",
     "collapsed": false,
     "input": [
      "def addallodd(list):\n",
      "    sum = 0\n",
      "    for i in range(len(list)):\n",
      "        if( list[i] % 2 != 0 ):\n",
      "            sum += list[i]\n",
      "    return sum\n",
      "\n",
      "print addallodd([1])\n",
      "print addallodd([1,2,3,4,5,6,7,8,9])"
     ],
     "language": "python",
     "metadata": {},
     "outputs": [
      {
       "output_type": "stream",
       "stream": "stdout",
       "text": [
        "1\n",
        "25\n"
       ]
      }
     ],
     "prompt_number": 12
    },
    {
     "cell_type": "markdown",
     "metadata": {},
     "source": [
      "- \ub9ac\uc2a4\ud2b8\ub0b4\ud3ec \ubc29\uc2dd"
     ]
    },
    {
     "cell_type": "code",
     "collapsed": false,
     "input": [],
     "language": "python",
     "metadata": {},
     "outputs": []
    },
    {
     "cell_type": "heading",
     "level": 1,
     "metadata": {},
     "source": [
      " "
     ]
    },
    {
     "cell_type": "markdown",
     "metadata": {},
     "source": [
      "<b>5) \ub2e4\uc74c \ucf54\ub4dc\ub97c \ubcf4\uace0 \ubb3c\uc74c\uc5d0 \ub2f5\ud558\uc2dc\uc624.</b>"
     ]
    },
    {
     "cell_type": "code",
     "collapsed": false,
     "input": [
      "L1 = [1, 2, 3]\n",
      "L2 = [4, 5, 6]\n",
      "d = {'low':L1, 'high':L2}\n",
      "e = d\n",
      "f = d.copy()\n",
      "print d\n",
      "print e\n",
      "print f\n",
      "print\n",
      "\n",
      "d['low'] = [10, 20, 30]\n",
      "d['high'][1] = 500\n",
      "print d\n",
      "print e\n",
      "print f"
     ],
     "language": "python",
     "metadata": {},
     "outputs": []
    },
    {
     "cell_type": "markdown",
     "metadata": {},
     "source": [
      "- \uc704 \ucf54\ub4dc\uc758 \uc218\ud589 \uacb0\uacfc d\uc640 e\ub294 \ud56d\uc0c1 \uac19\uc740 \uacb0\uacfc\ub97c \ucd9c\ub825\ud55c\ub2e4. \uadf8 \uc774\uc720\ub294 \ubb34\uc5c7\uc778\uac00?"
     ]
    },
    {
     "cell_type": "markdown",
     "metadata": {},
     "source": [
      "e = d\ub294 d\uac00 \uac00\uc9c4 \ubaa8\ub4e0 \uc6d0\uc18c\uc758 \ub808\ud37c\ub7f0\uc2a4 \uc790\uccb4\ub97c \ubcf5\uc0ac\ud55c\ub2e4. \uc989 \uac12\uc744 \ubcf5\uc0ac\ud558\ub294 \uac83\uc774 \uc544\ub2c8\ub77c e\uac00 d\uc640 \uac19\uc740 \uac1d\uccb4\ub97c \uac00\ub9ac\ud0a4\uac8c \ub418\ub294 \uac83\uc774\ub2e4. \uc989 d\uac00 \uac00\ub9ac\ud0a4\ub294 \uac1d\uccb4(\uc0ac\uc804)\uc758 \uc6d0\uc18c\uc758 \uac12\uc774 \ubc14\ub00c\uac8c \ub418\uba74 e\uac00 \uac00\ub9ac\ud0a4\ub294 \uac1d\uccb4\uac00 d\uc640 \uac19\uc740 \uac83\uc774\uc5c8\uc73c\ubbc0\ub85c e\uc758 \uc6d0\uc18c\uc758 \uac12\ub3c4 \ubc14\ub00c\uac8c \ub41c\ub2e4. "
     ]
    },
    {
     "cell_type": "heading",
     "level": 6,
     "metadata": {},
     "source": [
      " "
     ]
    },
    {
     "cell_type": "markdown",
     "metadata": {},
     "source": [
      "- \uc704 \ucf54\ub4dc\uc758 \uc218\ud589 \uacb0\uacfc \ub9c8\uc9c0\ub9c9 f\uc758 \ub0b4\uc6a9\uc740 \ub2e4\uc74c\uacfc \uac19\ub2e4. \uc774 \ub54c 'high' \ud0a4\uc758 \uac12 \ub0b4\uc6a9 \uc911 500\uc774 \ucd9c\ub825\ub41c \uc774\uc720\uc640 'low' \ud0a4\uc758 \uac12 \ub0b4\uc6a9 \uc911 [1, 2, 3]\uc774 \ucd9c\ub825\ub41c \uc774\uc720\ub97c \uc124\uba85\ud558\uc2dc\uc624 ([hint]: shallow copy \uad00\uc810\uc5d0\uc11c \uc124\uba85\ud558\uc2dc\uc624.)<br>\n",
      "{'high': [4, 500, 6], 'low': [1, 2, 3]}"
     ]
    },
    {
     "cell_type": "markdown",
     "metadata": {},
     "source": [
      "f\ub294 d\uc758 \uc0ac\ubcf8\uc774\ub2e4. \uc989 d\uac00 \uac16\ub294 \uac12\uc744 \ubcf5\uc0ac\ud558\uc5ec \uc0c8\ub85c \uac16\ub294\ub2e4. \uc989 f\ub294 'low'\ud0a4\uc758 \uac12 L1\uc758 \ub808\ud37c\ub7f0\uc2a4\uc640, 'high'\ud0a4\uc758 \uac12 L2\uc758 \ub808\ud37c\ub7f0\uc2a4\ub97c \uac16\ub294\ub2e4. f\ub294 \uc0ac\ubcf8\uc774\uae30 \ub54c\ubb38\uc5d0 d\uc640 \uad00\uacc4\uc5c6\uc774 \uc0c8\ub85c\uc6b4 \uac1d\uccb4\ub97c \ubcf5\uc0ac\ud558\uc5ec \uac16\ub294\ub2e4. \uc989 d\uc758 'low'\ud0a4\uc758 \uac12\uc774 \ubc14\ub010\ub2e4\ud55c\ub4e4 f\ub294 \uc544\ubb34\ub7f0 \uc601\ud5a5\uc744 \ubc1b\uc9c0 \uc54a\ub294\ub2e4. \uc989 L1\uc774 \ubc14\ub00c\uc9c0 \uc54a\ub294\ud55c f\uc758 'low'\ud0a4\uc758 \uac12\uc740 L1 \uadf8\ub300\ub85c [1, 2, 3] \uc774\ub2e4.\n",
      "\ud558\uc9c0\ub9cc copy\ub294 shallow copy\uc774\uae30 \ub54c\ubb38\uc5d0 d\uac00 \uac16\ub294 \uc6d0\uc18c\uc758 \ub808\ud37c\ub7f0\uc2a4 \uc5ed\uc2dc \ub808\ud37c\ub7f0\uc2a4\uac12 \uadf8\ub300\ub85c \ubcf5\uc0ac\ud55c\ub2e4. \ub808\ud37c\ub7f0\uc2a4\ub97c \ub530\ub77c\uac00 \uadf8 \uac12\uae4c\uc9c0 \ubcf5\uc0ac\ud558\uc9c0\ub294 \ubabb\ud55c\ub2e4. \uc989 d\uc758 \uc6d0\uc18c\uc778 \uac1d\uccb4\uac00 \uac12\uc774 \ubc14\ub00c\uba74 \uadf8 \ub808\ud37c\ub7f0\uc2a4\ub97c \uadf8\ub300\ub85c \uac16\uace0\uc788\ub294 f\uc758 \uc6d0\uc18c\uc758 \uac12\ub3c4 \ubc14\ub00c\uac8c \ub41c\ub2e4. \ub530\ub77c\uc11c d['high'][1] = 500 \uc5d0 \uc758\ud574 \uc6d0\uc18c\uc758 \uac12\uc774 \ubc14\ub010 L2\ub97c \ucc38\uc870\ud558\ub294 f\uc758 'high'\ud0a4\uc758 \uac12\uc740 500\uc774 \ub41c\ub2e4."
     ]
    },
    {
     "cell_type": "heading",
     "level": 1,
     "metadata": {},
     "source": [
      "  "
     ]
    },
    {
     "cell_type": "markdown",
     "metadata": {},
     "source": [
      "<b>6) \uc0ac\uc804 d = {'one':1, 'two':2, 'three':3, 'four':4, 'five':5}\uac00 \uc8fc\uc5b4\uc84c\uc744 \ub54c \ub2e4\uc74c \uc694\uad6c\uc0ac\ud56d\uc5d0 \ub9de\ub294 \ucf54\ub4dc\ub97c \uc81c\uc2dc\ud558\uc2dc\uc624</b>"
     ]
    },
    {
     "cell_type": "markdown",
     "metadata": {},
     "source": [
      "- [\ucc38\uace0]: d.keys(), d.values()\ub97c \ud1b5\ud574 \ub9ac\uc2a4\ud2b8\ub97c \uc5bb\uc5b4\ub0b8 \ud6c4 \ub9ac\uc2a4\ud2b8\uac00 \uc9c0\ub2c8\uace0 \uc788\ub294 sort(cmp=None, key=None, reverse=False)\ud568\uc218\ub97c \ud65c\uc6a9\ud558\uc2dc\uc624."
     ]
    },
    {
     "cell_type": "markdown",
     "metadata": {},
     "source": [
      "- \ud0a4\uc758 \uc54c\ud30c\ubcb3 \uc624\ub984\ucc28\uc21c \uc21c\uc11c\ub300\ub85c \ud29c\ud50c (\ud0a4, \uac12)\uc744 \ucc28\ub840\ub300\ub85c \ucd9c\ub825\ud558\uc2dc\uc624."
     ]
    },
    {
     "cell_type": "code",
     "collapsed": false,
     "input": [
      "d = {'one':1, 'two':2, 'three':3, 'four':4, 'five':5}\n",
      "l = d.items()\n",
      "\n",
      "l.sort()\n",
      "print l"
     ],
     "language": "python",
     "metadata": {},
     "outputs": [
      {
       "output_type": "stream",
       "stream": "stdout",
       "text": [
        "[('five', 5), ('four', 4), ('one', 1), ('three', 3), ('two', 2)]\n"
       ]
      }
     ],
     "prompt_number": 2
    },
    {
     "cell_type": "heading",
     "level": 6,
     "metadata": {},
     "source": [
      " "
     ]
    },
    {
     "cell_type": "markdown",
     "metadata": {},
     "source": [
      "- \ud0a4\uc758 \uc54c\ud30c\ubcb3 \ub0b4\ub9bc\ucc28\uc21c \uc21c\uc11c\ub300\ub85c \ud29c\ud50c (\ud0a4, \uac12)\uc744 \ucc28\ub840\ub300\ub85c \ucd9c\ub825\ud558\uc2dc\uc624."
     ]
    },
    {
     "cell_type": "code",
     "collapsed": false,
     "input": [
      "d = {'one':1, 'two':2, 'three':3, 'four':4, 'five':5}\n",
      "l = d.items()\n",
      "\n",
      "l.sort(reverse = 1)\n",
      "print l"
     ],
     "language": "python",
     "metadata": {},
     "outputs": [
      {
       "output_type": "stream",
       "stream": "stdout",
       "text": [
        "[('two', 2), ('three', 3), ('one', 1), ('four', 4), ('five', 5)]\n"
       ]
      }
     ],
     "prompt_number": 3
    },
    {
     "cell_type": "heading",
     "level": 6,
     "metadata": {},
     "source": [
      " "
     ]
    },
    {
     "cell_type": "markdown",
     "metadata": {},
     "source": [
      "- \uac12\uc758 \uc624\ub984\ucc28\uc21c \uc21c\uc11c\ub300\ub85c \ud29c\ud50c (\ud0a4, \uac12)\uc744 \ucc28\ub840\ub300\ub85c \ucd9c\ub825\ud558\uc2dc\uc624."
     ]
    },
    {
     "cell_type": "code",
     "collapsed": false,
     "input": [
      "d = {'one':1, 'two':2, 'three':3, 'four':4, 'five':5}\n",
      "l = d.items()\n",
      "\n",
      "l.sort(key=lambda l:l[1])\n",
      "print l"
     ],
     "language": "python",
     "metadata": {},
     "outputs": [
      {
       "output_type": "stream",
       "stream": "stdout",
       "text": [
        "[('one', 1), ('two', 2), ('three', 3), ('four', 4), ('five', 5)]\n"
       ]
      }
     ],
     "prompt_number": 4
    },
    {
     "cell_type": "heading",
     "level": 6,
     "metadata": {},
     "source": [
      " "
     ]
    },
    {
     "cell_type": "markdown",
     "metadata": {},
     "source": [
      "- \uac12\uc758 \ub0b4\ub9bc\ucc28\uc21c \uc21c\uc11c\ub300\ub85c \ud29c\ud50c (\ud0a4, \uac12)\uc744 \ucc28\ub840\ub300\ub85c \ucd9c\ub825\ud558\uc2dc\uc624."
     ]
    },
    {
     "cell_type": "code",
     "collapsed": false,
     "input": [
      "d = {'one':1, 'two':2, 'three':3, 'four':4, 'five':5}\n",
      "l = d.items()\n",
      "\n",
      "l.sort(key=lambda l:l[1], reverse = 1)\n",
      "print l"
     ],
     "language": "python",
     "metadata": {},
     "outputs": [
      {
       "output_type": "stream",
       "stream": "stdout",
       "text": [
        "[('five', 5), ('four', 4), ('three', 3), ('two', 2), ('one', 1)]\n"
       ]
      }
     ],
     "prompt_number": 5
    },
    {
     "cell_type": "heading",
     "level": 1,
     "metadata": {},
     "source": [
      " "
     ]
    },
    {
     "cell_type": "markdown",
     "metadata": {},
     "source": [
      "<b>7) \uc774\uc804 Assignment 2\uc758 \ub9c8\uc9c0\ub9c9 \ubb38\uc81c\ub294 \uc6f9 URL\ub85c \uc9c0\uc815\ub41c \uc6f9\ud398\uc774\uc9c0\ub97c \ubb38\uc790\uc5f4\ub85c \uac00\uc838\uc640 \ubaa8\ub4e0 HTML \ud0dc\uadf8 \ubc0f CSS\uc640 Javascript\ub97c \uc81c\uc678\ud55c \uc21c\uc218 \ud14d\uc2a4\ud2b8\ub97c \uc5bb\uc5b4\ub0b4\uace0 \uadf8 \uc548\uc5d0 \uc874\uc7ac\ud558\ub294 \ub2e8\uc5b4\ub97c \ucd94\ucd9c\ud558\ub294 \ud504\ub85c\uadf8\ub7a8\uc744 \uc791\uc131\ud558\ub294 \uac83\uc774\uc5c8\ub2e4. \uc774\ubc88\uc5d0\ub294 \uadf8 \ub9c8\uc9c0\ub9c9 \uc219\uc81c\ub97c \uadf8\ub300\ub85c \ud655\uc7a5\ud558\uc5ec \uc6f9 URL\ub85c \uc9c0\uc815\ub41c \uc6f9\ud398\uc774\uc9c0 \ub0b4 \uc21c\uc218 \ud14d\uc2a4\ud2b8 \uc548\uc5d0 \uc874\uc7ac\ud558\ub294 \uac01 \ub2e8\uc5b4\ub4e4\uc5d0 \ub300\ud574 \ub2e4\uc74c \uc694\uad6c\uc0ac\ud56d \ub300\ub85c \ucd9c\ub825\ud558\ub294 \ud504\ub85c\uadf8\ub7a8\uc744 \uc791\uc131\ud558\uc2dc\uc624."
     ]
    },
    {
     "cell_type": "markdown",
     "metadata": {},
     "source": [
      "- \uc694\uad6c\uc0ac\ud56d 1. \uc21c\uc218 \ud14d\uc2a4\ud2b8 \uc548\uc5d0 \uc874\uc7ac\ud558\ub294 \ub2e8\uc5b4\ub4e4\uc5d0 \ub300\ud574 string \ubaa8\ub4c8\uc744 \ud65c\uc6a9\ud558\uc5ec \ubaa8\ub4e0 punctuation (\uad6c\ub450\ubb38\uc790)\ub97c \uc644\ubcbd\ud788 \uc81c\uac70\ud558\uc2dc\uc624 (\uad50\uc7ac 166\ud398\uc774\uc9c0 \ucc38\uace0).\n",
      "    - \uc608: ['world!', ':', '+hello+', '~python$$$', '=', 'world'] ---> ['world', 'hello', 'python', 'world']\n",
      "- \uc694\uad6c\uc0ac\ud56d 2. \uac01 \ub2e8\uc5b4\ub4e4\uc758 \ucd9c\ud604\ube48\ub3c4\ub97c \uc0ac\uc804\ud615\ud0dc\ub85c \uc800\uc7a5\ud558\uc5ec \ucd9c\ub825\ud558\uc2dc\uc624.\n",
      "    - \uc608: ['world', 'hello', 'python', 'world'] ---> {'world': 2, 'hello': 1, 'python': 1}"
     ]
    },
    {
     "cell_type": "code",
     "collapsed": false,
     "input": [
      "import urllib\n",
      "import string\n",
      "\n",
      "source = urllib.urlopen(\"http://cse.kut.ac.kr/\").read()\n",
      "\n",
      "len_source = len(source)\n",
      "print \"Initial length of source:\", len_source\n",
      "\n",
      "source_new = None\n",
      "i = 0\n",
      "while (i < len_source):\n",
      "\tfound = False\n",
      "\tif (found != True and source[i] == \"<\" and source[i+1 : i+7].lower() == \"script\"):\n",
      "\t\tfound = True;\n",
      "\t\tj = i + 7;\n",
      "\t\twhile (True):\n",
      "\t\t\tif (source[j] == \"<\" and source[j+1] == \"/\" and source[j+2 : j+8].lower() == \"script\"):\n",
      "\t\t\t\t#print \"found - script\"\n",
      "\t\t\t\tsource = source[:i] + ' ' + source[j+9:]\n",
      "\t\t\t\tbreak\n",
      "\t\t\tj = j + 1\n",
      "\t\t\tif (j > len_source):\n",
      "\t\t\t\tbreak\n",
      "\t\tlen_source = len(source)\n",
      "\ti = i + 1\n",
      "\n",
      "len_source = len(source)\n",
      "#print len_source\n",
      "\n",
      "i = 0\n",
      "while (i < len_source):\n",
      "\tfound = False\n",
      "\tif (found != True and source[i] == \"<\" and source[i+1 : i+6].lower() == \"style\"):\n",
      "\t\tfound = True;\n",
      "\t\tj = i + 6;\n",
      "\t\twhile (True):\n",
      "\t\t\tif (source[j] == \"<\" and source[j+1] == \"/\" and source[j+2 : j+7].lower() == \"style\"):\n",
      "\t\t\t\t#print \"found - style\"\n",
      "\t\t\t\tsource = source[:i] + ' ' + source[j+8:]\n",
      "\t\t\t\tbreak\n",
      "\t\t\tj = j + 1\n",
      "\t\t\tif (j > len_source):\n",
      "\t\t\t\tbreak\n",
      "\t\tlen_source = len(source)\n",
      "\ti = i + 1\n",
      "\n",
      "len_source = len(source)\n",
      "#print len_source\n",
      "\n",
      "i = 0\n",
      "while (i < len_source):\n",
      "\tfound = False\n",
      "\tif (found != True and source[i] == \"<\"):\n",
      "\t\tfound = True;\n",
      "\t\tj = i + 1;\n",
      "\t\twhile (True):\n",
      "\t\t\tif (source[j] == \">\"):\n",
      "\t\t\t\t#print \"found - HTML tag\"\n",
      "\t\t\t\tsource = source[:i] + ' ' + source[j+1:]\n",
      "\t\t\t\tbreak\n",
      "\t\t\tj = j + 1\n",
      "\t\t\tif (j > len_source):\n",
      "\t\t\t\tbreak\n",
      "\t\tlen_source = len(source)\n",
      "\ti = i + 1\n",
      "\n",
      "len_source = len(source)\n",
      "print \"Last length of source:\", len_source\n",
      "\n",
      "words = source.split()\n",
      "\n",
      "#for word in words:\n",
      "#\tprint word\n",
      "\n",
      "print \"Total num of plain words:\", len(words)\n",
      "\n",
      "for word in words:\n",
      "    w = word.strip(string.punctuation)\n",
      "    print '\"' + w + '\" ',"
     ],
     "language": "python",
     "metadata": {},
     "outputs": [
      {
       "output_type": "stream",
       "stream": "stdout",
       "text": [
        "Initial length of source: 36572\n",
        "Last length of source:"
       ]
      },
      {
       "output_type": "stream",
       "stream": "stdout",
       "text": [
        " 5487\n",
        "Total num of plain words: 197\n",
        "\"\ucef4\ud4e8\ud130\uacf5\ud559\ubd80\"  \"\ud648\ud398\uc774\uc9c0\"  \"\ucef4\ud4e8\ud130\uacf5\ud559\ubd80\"  \":\"  \"\uad50\uc721\ubaa9\ud45c\"  \":\"  \"\ucc3e\uc544\uc624\uc2dc\ub294\uae38\"  \":\"  \"\uc878\uc5c5\uc791\ud488\"  \":\"  \"\uacf5\ud559\uc124\uacc4\"  \":\"  \"\ucde8\uc5c5\uc870\uc0ac2014\"  \":\"  \"\ucde8\uc5c5\uc870\uc0ac2013\"  \"\uad50\uc218\uc9c4\"  \":\"  \"\ud559\uc0dd\ud68c\"  \"\uc878\uc5c5\uc774\uc218\uc694\uac74\"  \":\"  \"\ucef4\ud4e8\ud130S/W\"  \":\"  \"\ucef4\ud4e8\ud130H/W\"  \":\"  \"\ucef4\ud4e8\ud130\uc2a4\ub9c8\ud2b8IT\"  \":\"  \"\ucef4\ud4e8\ud130\uc2dc\uc2a4\ud15c\uc751\uc6a9\"  \":\"  \"\uc7a5\ud559\uc81c\ub3c4\"  \"\ubaa8\uc9d1\uc694\uac15\"  \":\"  \"\uc785\uc2dcQ&A\"  \"\uacf5\uc9c0\uc0ac\ud56d\"  \":\"  \"\uc790\uc720\uac8c\uc2dc\ud310\"  \":\"  \"\uc775\uba85\uac8c\uc2dc\ud310\"  \":\"  \"\ucde8\uc5c5\uac8c\uc2dc\ud310\"  \":\"  \"\ub3d9\ubb38\uac8c\uc2dc\ud310\"  \":\"  \"\uc0ac\uc9c4\uac8c\uc2dc\ud310\"  \":\"  \"\ud559\ubd80\uc0ac\uc9c4\uac94\ub7ec\ub9ac\"  \":\"  \"\uace0\uc7a5\uc2e0\uace0\uac8c\uc2dc\ud310\"  \"\uac15\uc758\uc790\ub8cc\uc2e4\"  \":\"  \"\uc77c\ubc18\uc790\ub8cc\uc2e4\"  \":\"  \"\uc11c\uc2dd\ubc0f\uc591\uc2dd\uc790\ub8cc\uc2e4\"  \"\ub300\ud559\uc6d0\uc18c\uac1c\"  \":\"  \"\uc5f0\uad6c\uc2e4\uc18c\uac1c\"  \":\"  \"\ub300\ud559\uc6d0\uac8c\uc2dc\ud310\"  \"\uacf5\ud559\uc778\uc99d\uc548\ub0b4\"  \":\"  \"\uacf5\ud559\uc778\uc99d\uac8c\uc2dc\ud310\"  \":\"  \"C++\"  \"2014/03/27\"  \"\uacf5\ud559\uc124\uacc4\"  \"\ud3ec\uc2a4\ud130\ubc1c\ud45c\uacbd\uc9c4\ub300\ud68c\"  \"\ud22c\ud45c...\"  \"2013/12/10\"  \"2013\ub144\"  \"\uc878\uc5c5\uc791\ud488\"  \"\ube0c\ub85c\uc154\"  \"2013/10/07\"  \"\uc81c\"  \"4\ub300\"  \"\ucef4\ud4e8\ud130\uacf5\ud559\ubd80\"  \"\ud559\ud68c\uc7a5/\ubd80\ud559...\"  \"2012/11/05\"  \"\ub514\uc9c0\ud138\"  \"\uc2dc\uc2a4\ud15c\"  \"\uc124\uacc41-\"  \"[\uc2e4\uc2b5-\uc870\uad50]\"  \"2012/09/0\"  \"\uc18c\ud504\ud2b8\uc6e8\uc5b4\uacf5\ud559\"  \"\uc911\uac04\uace0\uc0ac\"  \"\uacf5\uc9c0.\"  \"2014/10/16\"  \"\ucef4\ud4e8\ud130\uacf5\ud559\ubd80\"  \"\ud559\uc0dd\ub4e4\uc744\"  \"\uc704\ud55c\"  \"\ub18d\uad6c...\"  \"2014/10/06\"  \"\ud639\uc2dc\"  \"\ud64d\uc9c4\ud45c\"  \"\uad50\uc218\ub2d8\uc758\"  \"\ucef4\ud4e8\ud130\"  \"\uad6c...\"  \"&nbsp;\"  \"(2)\"  \"2014/10/06\"  \"\uc18c\ud504\ud2b8\uc6e8\uc5b4\"  \"\uac1c\ubc1c\ubcf4\uc548\"  \"\uacbd\uc9c4\ub300\ud68c\"  \"\uac1c\ucd5c\"  \"2014/10/01\"  \"2015\ub144\"  \"\uc0c1\ubc18\uae30\"  \"\uc0bc\uc131\"  \"\uc18c\ud504\ud2b8\uc6e8\uc5b4\"  \"...\"  \"2014/09/25\"  \"\ucf64\ud14d\uc2dc\uc2a4\ud15c\"  \"\uc2e0\uc785\uc0ac\uc6d0\"  \"\ubaa8\uc9d1\"  \"2014/10/16\"  \"2014\ub144\"  \"T-money(\ud55a\uad6d\uc2a4\ub9c8\ud2b8\uce74\ub4dc)\"  \"...\"  \"2014/10/14\"  \"\uc138\ub9bc\ud2f0\ub124\uc2a4\uc9c0(\uc8fc)\"  \"\uc778\ub825\"  \"\ucc44\uc6a9\"  \"\uacf5\uace0\"  \"2014/09/30\"  \"(\uc8fc)\uc5e0\ud504\ub860\ud2f0\uc5b4\"  \"\uc2dc\uc2a4\ud15c\"  \"\uc6b4\uc601/\uac1c\ubc1c\"  \"...\"  \"2014/09/15\"  \"\ucef4\ud4e8\ud130\uacf5\ud559\ubd80\"  \"\ud559\ubd80\uc0ac\ubb34\uc2e4\"  \"\uccad\ub144\uc778\ud134...\"  \"2014/08/06\"  \"2014-10-14\"  \"...\"  \"2014-10-14\"  \"...\"  \"[1]\"  \"2014\ub144\"  \"\uc878\uc5c5...\"  \"\ud559\uc220\uc81c\"  \"\ucef4\ud4e8\ud130\uacf5\ud559\ubd80\"  \"\uc878\uc5c5\uc791\ud488\"  \"\uc778...\"  \"2014/10/16\"  \"\uc878\uc5c5\uc791\ud488\"  \"\ud3ec\uc0c1(\uacbd\uc9c4\ub300\ud68c)\"  \"\uc548\ub0b4\"  \"2014/10/15\"  \"\ub300\ud559\uc6d0\uc0dd\"  \"\ub300\uc0c1\"  \"\uc548\uc804\uad50\uc721\"  \"\uc548\ub0b4\"  \"10...\"  \"2014/10/14\"  \"[\ud2b9\uc131\ud654\uc0ac\uc5c5\ub2e8]\"  \"\uc77c\ubcf8\uae30\uc220\ud0d0\ubc29\"  \"\uc120...\"  \"2014/10/13\"  \"2014\ub144\"  \"\ud558\ubc18\uae30\"  \"\ud154\ucf54\uc6e8\uc5b4(\uc8fc)\"  \"\uc2e0\uc785...\"  \"2014/10/10\"  \"\uc878\uc5c5\uc791\ud488\"  \"\uc804\uc2dc\ud68c\"  \"\ucef4\ud4e8\ud130\uacf5\ud559\ubd80\"  \"\uc778...\"  \"2014/10/07\"  \"\uc7ac\uacf5\uc9c0)\"  \"12\uc77c\"  \"\ub9c8\uac10.\"  \"\uc878\uc5c5\uc791\ud488\"  \"\ud3ec...\"  \"2014/10/04\"  \"ICT\uc7a5\uad00\ud68c\uc758,\"  \"\ubd80\uc0b0\uc120\uc5b8\ubb38\"  \"\ucc44\ud0dd\u00b7\u00b7\u00b7...\"  \"2014-10-1\"  \"[\uc774\uc288\ubd84\uc11d]\"  \"`ICT\"  \"\uc62c\ub9bc\ud53d`\"  \"\ubd80\uc0b0\uc11c\"  \"...\"  \"2014-10-1\"  \"[\uc774\uc288\ubd84\uc11d]ICT\"  \"\uc131\uacf5\uc0ac\ub840\uc9d1\"  \"\ubc1c\uac04\"  \"2014-10-1\"  \"[\uc774\uc288\ubd84\uc11d]\ud2b9\ubcc4\ud589\uc0ac\"  \"\ubb50\uac00\"  \"\uc788\ub098?\"  \"2014-10-1\"  \"\ucd5c\uc591\ud76c\"  \"\uc7a5\uad00\"  \"\uc73c\ub984\uc7a5\"  \"\ub1a8\uc9c0\ub9cc\"  \"\ud1b5\uc2e0\u00b7...\"  \"2014-10-1\" \n"
       ]
      }
     ],
     "prompt_number": 68
    },
    {
     "cell_type": "heading",
     "level": 1,
     "metadata": {},
     "source": [
      " "
     ]
    },
    {
     "cell_type": "markdown",
     "metadata": {},
     "source": [
      "<b>\uc18c\uac10</b>: \uc54c\uc544\uac00\ub294 \uba54\uc18c\ub4dc\uac00 \ub9ce\uc544\uc9c0\ub2c8 \ud5f7\uac08\ub9ac\uae30 \uc2dc\uc791\ud558\uace0 \uc544\ub294\uac74 \uc788\uc5b4\ub3c4 \uc815\ud655\ud788 \uc5b4\ub290 \ub54c\uc5d0 \uc0ac\uc6a9\ud574\uc57c \ud560\uc9c0 \uc798 \ubaa8\ub974\uaca0\ub2e4. \ub610\ud55c \ub9c8\uce68\ud45c \ub2e4\uc74c\uc5d0 \uc368\uc57c\ud558\ub294 \uc9c0, \uad04\ud638 \uc548\uc5d0 \uc368\uc57c\ud558\ub294\uc9c0 \ud5f7\uac08\ub9ac\ub294 \uacbd\uc6b0\ub3c4 \ub9ce\uc544\uc9c4\ub2e4. \uc774\ubc88\uc5d0\ub294 \uacfc\uc81c\ub97c \ub9ce\uc774 \ud574\uacb0\ud558\uc9c0 \ubabb\ud574 \uc544\uc26c\uc6b4 \ub9c8\uc74c\uc774 \ub9ce\uc774 \ub0a8\ub294\ub2e4."
     ]
    }
   ],
   "metadata": {}
  }
 ]
}