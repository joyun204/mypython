{
 "metadata": {
  "name": "",
  "signature": "sha256:3cc58d475ef04497bc6dfb9ff2e7a502c90836d400ee8e713da043190fed2fd3"
 },
 "nbformat": 3,
 "nbformat_minor": 0,
 "worksheets": [
  {
   "cells": [
    {
     "cell_type": "heading",
     "level": 1,
     "metadata": {},
     "source": [
      "\uc2a4\ud06c\ub9bd\ud2b8 \ud504\ub85c\uadf8\ub798\ubc0d"
     ]
    },
    {
     "cell_type": "heading",
     "level": 2,
     "metadata": {},
     "source": [
      "Assignment 2"
     ]
    },
    {
     "cell_type": "heading",
     "level": 3,
     "metadata": {},
     "source": [
      "2011136080 \uc724\uc9c4\uc625"
     ]
    },
    {
     "cell_type": "heading",
     "level": 3,
     "metadata": {},
     "source": [
      "\uc81c\ucd9c\uc77c : 2014.09.29"
     ]
    },
    {
     "cell_type": "heading",
     "level": 1,
     "metadata": {},
     "source": [
      " "
     ]
    },
    {
     "cell_type": "heading",
     "level": 4,
     "metadata": {},
     "source": [
      " "
     ]
    },
    {
     "cell_type": "markdown",
     "metadata": {},
     "source": [
      "<b>1) \ub2e4\uc74c 6 \uac1c\uc758 Expression\uc5d0 \ub300\ud574 Evaluation \uacb0\uacfc \uac12\uc744 \ucd9c\ub825\ud558\uace0, \ud574\ub2f9 \uacb0\uacfc\uac00 \ub098\uc628 \uc774\uc720\uc5d0 \ub300\ud574 \uc124\uba85\ud558\uc2dc\uc624</b>"
     ]
    },
    {
     "cell_type": "code",
     "collapsed": false,
     "input": [
      "print 1 and 2 and 3 and 4\n",
      "print 1 or 2 or 3 or 4\n",
      "print 1 and 2 or 3 and 4\n",
      "print (1 and 2) or (3 and 4)\n",
      "print 1 or 2 and 3 or 4\n",
      "print (1 or 2) and (3 or 4)"
     ],
     "language": "python",
     "metadata": {},
     "outputs": [
      {
       "output_type": "stream",
       "stream": "stdout",
       "text": [
        "4\n",
        "1\n",
        "2\n",
        "2\n",
        "1\n",
        "3\n"
       ]
      }
     ],
     "prompt_number": 3
    },
    {
     "cell_type": "markdown",
     "metadata": {},
     "source": [
      "[x or y]\uc77c \ub54c, or\ub294 x\uac00 \uac70\uc9d3\uc774\uba74 y\ub97c \uadf8\ub807\uc9c0 \uc54a\uc73c\uba74 x\ub97c \ub3cc\ub824\uc900\ub2e4. [x and y]\uc77c \ub54c, and\ub294 x\uac00 \uac70\uc9d3\uc774\uba74 x\ub97c \uadf8\ub807\uc9c0 \uc54a\uc73c\uba74 y\ub97c \ub3cc\ub824\uc900\ub2e4. \n",
      "\uadf8\ub7f0\ub370 \ubb38\uc81c\uc5d0 \ub098\uc624\ub294 \uc815\uc218 1, 2, 3, 4\ub294 \ubaa8\ub450 \ucc38\uc774\ub2e4. \ub530\ub77c\uc11c and \uc5f0\uc0b0\uc790\ub294 \uc624\ub978\ucabd\uc5d0 \uc788\ub294 y\ub97c, or \uc5f0\uc0b0\uc790\ub294 \uc67c\ucabd\uc5d0 \uc788\ub294 x\ub97c \ucd9c\ub825\ud55c\ub2e4. 3\ubc88\uc9f8 \ubb38\uc81c\uc758 or\ub294 \uccab \ucc38\uac12\uc778 2\ub97c \ubc1c\uacac\ud588\uc73c\ubbc0\ub85c \uadf8\uac83\uc744 \ucd9c\ub825\ud55c\ub2e4. "
     ]
    },
    {
     "cell_type": "heading",
     "level": 1,
     "metadata": {},
     "source": [
      " "
     ]
    },
    {
     "cell_type": "markdown",
     "metadata": {},
     "source": [
      "<b>2) 7/5, -7/5, -(7/5)\uc758 \uacb0\uacfc\ub97c \ud655\uc778\ud558\uace0 \uac01\uac01\uc758 \uacb0\uacfc\uac00 \uc65c \uadf8\ub807\uac8c \ub098\uc624\ub294 \uc9c0 \uc124\uba85\ud558\uc2dc\uc624</b>"
     ]
    },
    {
     "cell_type": "code",
     "collapsed": false,
     "input": [
      "print 7/5\n",
      "print -7/5\n",
      "print -(7/5)"
     ],
     "language": "python",
     "metadata": {},
     "outputs": [
      {
       "output_type": "stream",
       "stream": "stdout",
       "text": [
        "1\n",
        "-2\n",
        "-1\n"
       ]
      }
     ],
     "prompt_number": 4
    },
    {
     "cell_type": "markdown",
     "metadata": {},
     "source": [
      "7/5 = 1.4 \uc774\ub2e4. \ubaab\uc740 \ud56d\uc0c1 \uc74c\uc758 \ubb34\ud55c\ub300 \ubc29\ud5a5\uc73c\ub85c \ubc18\uc62c\ub9bc\ub41c\ub2e4. \uc989 \uccab\ubc88\uc9f8 \ubb38\uc81c\uc758 \uac12\uc778 1.4\ub294 \ubc18\uc62c\ub9bc\ud558\uc5ec 1\uc774 \ub41c\ub2e4. \ub450\ubc88\uc9f8 \ubb38\uc81c\ub294 -1.4\uac00 \ub098\uc624\ubbc0\ub85c \uc74c\uc758 \ubb34\ud55c\ub300 \ubc29\ud5a5\uc73c\ub85c \ubc18\uc62c\ub9bc\ud558\uc5ec -2\uac00 \ub098\uc628\ub2e4. \uc138\ubc88\uc9f8 \ubb38\uc81c\ub294 \uad04\ud638\ub97c \ubc97\uae30\uae30 \uc804\uc5d0 1.4\ub97c \ubc18\uc62c\ub9bc\ud558\uc5ec 1\uc774 \ub418\uace0, \uad04\ud638\ub97c \ubc97\uaca8 -1\uc774 \ub41c\ub2e4. "
     ]
    },
    {
     "cell_type": "heading",
     "level": 1,
     "metadata": {},
     "source": [
      " "
     ]
    },
    {
     "cell_type": "markdown",
     "metadata": {},
     "source": [
      "<b>3) \ud0a4\ubcf4\ub4dc\ub85c \uc815\uc218\uac12\uc744 \uc785\ub825 \ubc1b\uace0 \uadf8 \uac12\uc774 \uc591\uc218\uc778\uc9c0 \uc74c\uc218\uc778\uc9c0\ub97c \ube44\ud2b8 \uc5f0\uc0b0\uc790\ub97c \uc774\uc6a9\ud558\uc5ec \ud310\ub2e8\ud558\ub294 \ud504\ub85c\uadf8\ub7a8\uc744 \uc791\uc131\ud558\uc2dc\uc624.</b>"
     ]
    },
    {
     "cell_type": "code",
     "collapsed": false,
     "input": [
      "num = input('Enter num(-128 ~ 127): ')\n",
      "if (num & 128 == 128):\n",
      "    print 'Negative number'\n",
      "else: print 'Positive number'"
     ],
     "language": "python",
     "metadata": {},
     "outputs": [
      {
       "name": "stdout",
       "output_type": "stream",
       "stream": "stdout",
       "text": [
        "Enter num(-128 ~ 127): 124\n"
       ]
      },
      {
       "output_type": "stream",
       "stream": "stdout",
       "text": [
        "Positive number\n"
       ]
      }
     ],
     "prompt_number": 2
    },
    {
     "cell_type": "heading",
     "level": 1,
     "metadata": {},
     "source": [
      " "
     ]
    },
    {
     "cell_type": "markdown",
     "metadata": {},
     "source": [
      "<b>4) \ub450 \uac1c\uc758 \ub9ac\uc2a4\ud2b8\ub97c \uc778\uc790\ub85c \ubc1b\uc544\uc11c \uadf8 \ub450 \uac1c\uc758 \ub9ac\uc2a4\ud2b8\uc5d0 \ub300\ud55c '\ud569\uc9d1\ud569'\uc744 \ubc18\ud658\ud558\ub294 \ud568\uc218 list_union(lista, listb)\ub97c \uc791\uc131\ud558\uc2dc\uc624.</b>"
     ]
    },
    {
     "cell_type": "code",
     "collapsed": false,
     "input": [
      "l1 = [8, 3, 2, 5]\n",
      "l2 = [6, 2, 1, 10]\n",
      "def list_union(a, b):\n",
      "    c = a\n",
      "    for i in range(len(b)):\n",
      "        if( b[i] not in a ):\n",
      "            c.append(b[i])\n",
      "    c.sort()\n",
      "    print c\n",
      "list_union(l1, l2)"
     ],
     "language": "python",
     "metadata": {},
     "outputs": [
      {
       "output_type": "stream",
       "stream": "stdout",
       "text": [
        "[1, 2, 3, 5, 6, 8, 10]\n"
       ]
      }
     ],
     "prompt_number": 17
    },
    {
     "cell_type": "heading",
     "level": 1,
     "metadata": {},
     "source": [
      " "
     ]
    },
    {
     "cell_type": "markdown",
     "metadata": {},
     "source": [
      "<b>5) \uacbd\ub85c\uc5d0 \ud574\ub2f9\ud558\ub294 \ubb38\uc790\uc5f4 1\uac1c\ub97c \uc785\ub825 \ubc1b\uc544 \uadf8 \uc548\uc5d0 \ub514\ub809\ud1a0\ub9ac \uacbd\ub85c\uba85\uacfc \ud30c\uc77c\uba85\uc744 \ubd84\ub9ac\ud558\uc5ec \ub9ac\uc2a4\ud2b8\ub85c \ubc18\ud658\ud558\ub294 \ud568\uc218 div_path(s)\ub97c \uc791\uc131\ud558\uc2dc\uc624.</b>"
     ]
    },
    {
     "cell_type": "code",
     "collapsed": false,
     "input": [
      "l3 = '/usr/local/bin/python'\n",
      "def div_path(s):\n",
      "    t = s.rsplit('/', 1)\n",
      "    print t\n",
      "div_path(l3)"
     ],
     "language": "python",
     "metadata": {},
     "outputs": [
      {
       "output_type": "stream",
       "stream": "stdout",
       "text": [
        "['/usr/local/bin', 'python']\n"
       ]
      }
     ],
     "prompt_number": 20
    },
    {
     "cell_type": "heading",
     "level": 1,
     "metadata": {},
     "source": [
      " "
     ]
    },
    {
     "cell_type": "markdown",
     "metadata": {},
     "source": [
      "<b>6) \uc6f9 URL\ub85c \uc9c0\uc815\ub41c \uc6f9\ud398\uc774\uc9c0\ub97c \ubb38\uc790\uc5f4\ub85c \uac00\uc838\uc640 1) \ubaa8\ub4e0 HTML \ud0dc\uadf8 \ubc0f CSS\uc640 Javascript\ub97c \uc81c\uc678\ud55c \uc21c\uc218 \ud14d\uc2a4\ud2b8\ub9cc\uc744 \ucd9c\ub825\ud558\uace0, 2) \uadf8 \uc21c\uc218 \ud14d\uc2a4\ud2b8 \uc548\uc5d0 \uc874\uc7ac\ud558\ub294 \ub2e8\uc5b4\uac00 \ucd1d \uba87\uac1c\uc778\uc9c0 \ucd9c\ub825\ud558\ub294 \ud504\ub85c\uadf8\ub7a8\uc744 \uc791\uc131\ud558\uc2dc\uc624.</b>"
     ]
    },
    {
     "cell_type": "code",
     "collapsed": false,
     "input": [
      "import urllib\n",
      "import string\n",
      "s = urllib.urlopen('http://www.python.org/').read()\n",
      "\n",
      "a = b = -1\n",
      "for i in range(len(s)):\n",
      "    a = s.find('<')\n",
      "    if a != -1:\n",
      "        b = s.find('>', a)\n",
      "        if b != -1:\n",
      "            s = s[:a] + s[b+1:]\n",
      "    a = b = -1\n",
      "\n",
      "c = d = -1\n",
      "for j in range(len(s)):\n",
      "    c = s.find('script')\n",
      "    if c != -1:\n",
      "        d = s.find('/script')\n",
      "        if d != -1:\n",
      "            s = s[:c] + s[d+7:]\n",
      "    c = d = -1\n",
      "\n",
      "for j in range(len(s)):\n",
      "    c = s.find('SCRIPT')\n",
      "    if c != -1:\n",
      "        d = s.find('/SCRIPT')\n",
      "        if d != -1:\n",
      "            s = s[:c] + s[d+7:]\n",
      "    c = d = -1\n",
      "\n",
      "for j in range(len(s)):\n",
      "    c = s.find('style')\n",
      "    if c != -1:\n",
      "        d = s.find('/style')\n",
      "        if d != -1:\n",
      "            s = s[:c] + s[d+7:]\n",
      "    c = d = -1\n",
      "    \n",
      "for j in range(len(s)):\n",
      "    c = s.find('STYLE')\n",
      "    if c != -1:\n",
      "        d = s.find('/STYLE')\n",
      "        if d != -1:\n",
      "            s = s[:c] + s[d+7:]\n",
      "    c = d = -1\n",
      "\n",
      "w = s.split()\n",
      "print len(w)"
     ],
     "language": "python",
     "metadata": {},
     "outputs": [
      {
       "output_type": "stream",
       "stream": "stdout",
       "text": [
        "1081\n"
       ]
      }
     ],
     "prompt_number": 2
    },
    {
     "cell_type": "markdown",
     "metadata": {},
     "source": [
      "\ubb38\uc790\uc5f4 \uba54\uc18c\ub4dc\uc640 \ub9ac\uc2a4\ud2b8\uc5d0 \ub300\ud55c \uc774\ud574\uac00 \ubd80\uc871\ud558\uc5ec \ubb38\uc81c\ub97c \uc81c\ub300\ub85c \uc218\ud589\ud558\uc9c0 \ubabb\ud558\uc600\ub2e4. \n",
      "\uba3c\uc800 \uc778\ub371\uc2a4\ub4e4\uc744 \uc800\uc7a5\ud560 \ubcc0\uc218\ub4e4\uc744 \uc120\uc5b8\ud55c \ub2e4\uc74c\uc5d0, <\ub97c \ucc3e\uc544\uc11c \uc778\ub371\uc2a4\uac12\uc744 \uc800\uc7a5\ud558\uace0, >\ub97c \ucc3e\uc544\uc11c \uc778\ub371\uc2a4\uac12\uc744 \uc800\uc7a5\ud55c\ub2e4. \uadf8 \uc778\ub371\uc2a4\uc758 \ubc94\uc704 \ub0b4\uc758 \ubb38\uc790\uc5f4\uc744 \uc81c\ud574\uc57c\ud558\uae30 \ub54c\ubb38\uc5d0 slicing \uc744 \uc0ac\uc6a9\ud558\uc5ec \uc81c\ud55c \ubb38\uc790\uc5f4\uc744 \ub2e4\uc2dc \uc800\uc7a5\ud588\ub2e4. \uc774\uc640 \uac19\uc740 \ubc29\ubc95\uc73c\ub85c script\uc640 style \ubd80\ubd84\ub3c4 \uc81c\ud558\uc600\ub2e4."
     ]
    },
    {
     "cell_type": "heading",
     "level": 1,
     "metadata": {},
     "source": [
      " "
     ]
    },
    {
     "cell_type": "markdown",
     "metadata": {},
     "source": [
      "<b>\uc18c\uac10:</b> \uc774\ubc88 \ubb38\uc81c\ub294 \uc804\uccb4\uc801\uc73c\ub85c \uc5b4\ub835\uc9c4 \uc54a\uc558\ub2e4\uace0 \uc0dd\uac01\ud588\ub294\ub370, \ub9c8\uc9c0\ub9c9 \ubb38\uc81c\uac00 \uc5b4\ub824\uc6e0\ub2e4. \uacfc\uc81c\ub97c \ubc1b\uc558\uc744 \ub54c\ub294 \ub300\ucda9 \uc774\ub807\uac8c \ud558\uba74 \ub418\uaca0\ub2e4\ub294 \ub9c9\uc5f0\ud55c \uc0dd\uac01\uc774 \uc788\uc5c8\ub294\ub370 \ub9c9\uc0c1 \ud480\ub824\uace0 \ubcf4\ub2c8 \ub2f5\uc774 \ub098\uc624\uc9c0 \uc54a\uc558\ub2e4. \uad6c\uae00\ub9c1\uc744 \ud558\uc5ec \ucc38\uace0\ud560 \ub9cc\ud55c \uc790\ub8cc\ub97c \ucc3e\uae34 \ucc3e\uc558\uc73c\ub098 import re\ub97c \ud558\uc5ec \uc0ac\uc6a9\ud558\ub294 \ubc29\ubc95\uc774\uc5c8\ub2e4. \ub2f5\uc774 \uc548\ub098\uc624\uae30\ub294 \ud588\uc73c\ub098 \uc218\uc5c5\uc2dc\uac04\uc5d0 \ubc30\uc6b4 \ub0b4\uc6a9\uc73c\ub85c \ud480 \uc218 \uc788\uc744 \uac70\ub77c\uace0 \uc0dd\uac01\ud588\uae30 \ub54c\ubb38\uc5d0 \uadf8 \ubc29\ubc95\uc744 \uc0ac\uc6a9\ud558\uc9c0 \uc54a\uc558\ub2e4. \uadf8\ub798\uc11c \uacb0\uad6d \uc81c\ub300\ub85c \uc218\ud589\ud558\uc9c0 \ubabb\ud558\uc600\ub2e4. \ub2e4\uc74c\uc5d0\ub294 \uc880\ub354 \uc2dc\uac04\uc744 \ub4e4\uc5ec\uc11c\ub77c\ub3c4 \uc2a4\uc2a4\ub85c \ud480 \uc218 \uc788\uc73c\uba74 \uc88b\uaca0\ub2e4\uace0 \uc0dd\uac01\ud558\uc600\ub2e4. "
     ]
    }
   ],
   "metadata": {}
  }
 ]
}